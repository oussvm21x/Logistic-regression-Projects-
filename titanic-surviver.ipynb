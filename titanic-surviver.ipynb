{
 "cells": [
  {
   "cell_type": "code",
   "execution_count": 1,
   "id": "27c378cd",
   "metadata": {
    "execution": {
     "iopub.execute_input": "2025-08-10T22:47:26.161182Z",
     "iopub.status.busy": "2025-08-10T22:47:26.160831Z",
     "iopub.status.idle": "2025-08-10T22:47:30.147236Z",
     "shell.execute_reply": "2025-08-10T22:47:30.146322Z"
    },
    "papermill": {
     "duration": 3.998922,
     "end_time": "2025-08-10T22:47:30.149172",
     "exception": false,
     "start_time": "2025-08-10T22:47:26.150250",
     "status": "completed"
    },
    "tags": []
   },
   "outputs": [],
   "source": [
    "import numpy as np \n",
    "import pandas as pd\n",
    "import seaborn as sns\n",
    "from matplotlib import pyplot as plt\n",
    "from sklearn.model_selection import train_test_split\n",
    "from sklearn.linear_model import LogisticRegression\n",
    "from sklearn.metrics import accuracy_score"
   ]
  },
  {
   "cell_type": "code",
   "execution_count": 2,
   "id": "7c3ad329",
   "metadata": {
    "execution": {
     "iopub.execute_input": "2025-08-10T22:47:30.173257Z",
     "iopub.status.busy": "2025-08-10T22:47:30.172724Z",
     "iopub.status.idle": "2025-08-10T22:47:30.209069Z",
     "shell.execute_reply": "2025-08-10T22:47:30.208394Z"
    },
    "papermill": {
     "duration": 0.051364,
     "end_time": "2025-08-10T22:47:30.210631",
     "exception": false,
     "start_time": "2025-08-10T22:47:30.159267",
     "status": "completed"
    },
    "tags": []
   },
   "outputs": [],
   "source": [
    "data = pd.read_csv('/kaggle/input/titanic-surviver-data/train.csv')\n",
    "test_data = pd.read_csv('/kaggle/input/titanic-surviver-data/test.csv')\n",
    "y_test = pd.read_csv('/kaggle/input/titanic-surviver-data/gender_submission.csv')"
   ]
  },
  {
   "cell_type": "code",
   "execution_count": 3,
   "id": "66850944",
   "metadata": {
    "execution": {
     "iopub.execute_input": "2025-08-10T22:47:30.229544Z",
     "iopub.status.busy": "2025-08-10T22:47:30.228506Z",
     "iopub.status.idle": "2025-08-10T22:47:30.255137Z",
     "shell.execute_reply": "2025-08-10T22:47:30.254340Z"
    },
    "papermill": {
     "duration": 0.037839,
     "end_time": "2025-08-10T22:47:30.256641",
     "exception": false,
     "start_time": "2025-08-10T22:47:30.218802",
     "status": "completed"
    },
    "tags": []
   },
   "outputs": [
    {
     "data": {
      "text/html": [
       "<div>\n",
       "<style scoped>\n",
       "    .dataframe tbody tr th:only-of-type {\n",
       "        vertical-align: middle;\n",
       "    }\n",
       "\n",
       "    .dataframe tbody tr th {\n",
       "        vertical-align: top;\n",
       "    }\n",
       "\n",
       "    .dataframe thead th {\n",
       "        text-align: right;\n",
       "    }\n",
       "</style>\n",
       "<table border=\"1\" class=\"dataframe\">\n",
       "  <thead>\n",
       "    <tr style=\"text-align: right;\">\n",
       "      <th></th>\n",
       "      <th>PassengerId</th>\n",
       "      <th>Survived</th>\n",
       "      <th>Pclass</th>\n",
       "      <th>Name</th>\n",
       "      <th>Sex</th>\n",
       "      <th>Age</th>\n",
       "      <th>SibSp</th>\n",
       "      <th>Parch</th>\n",
       "      <th>Ticket</th>\n",
       "      <th>Fare</th>\n",
       "      <th>Cabin</th>\n",
       "      <th>Embarked</th>\n",
       "    </tr>\n",
       "  </thead>\n",
       "  <tbody>\n",
       "    <tr>\n",
       "      <th>0</th>\n",
       "      <td>1</td>\n",
       "      <td>0</td>\n",
       "      <td>3</td>\n",
       "      <td>Braund, Mr. Owen Harris</td>\n",
       "      <td>male</td>\n",
       "      <td>22.0</td>\n",
       "      <td>1</td>\n",
       "      <td>0</td>\n",
       "      <td>A/5 21171</td>\n",
       "      <td>7.2500</td>\n",
       "      <td>NaN</td>\n",
       "      <td>S</td>\n",
       "    </tr>\n",
       "    <tr>\n",
       "      <th>1</th>\n",
       "      <td>2</td>\n",
       "      <td>1</td>\n",
       "      <td>1</td>\n",
       "      <td>Cumings, Mrs. John Bradley (Florence Briggs Th...</td>\n",
       "      <td>female</td>\n",
       "      <td>38.0</td>\n",
       "      <td>1</td>\n",
       "      <td>0</td>\n",
       "      <td>PC 17599</td>\n",
       "      <td>71.2833</td>\n",
       "      <td>C85</td>\n",
       "      <td>C</td>\n",
       "    </tr>\n",
       "    <tr>\n",
       "      <th>2</th>\n",
       "      <td>3</td>\n",
       "      <td>1</td>\n",
       "      <td>3</td>\n",
       "      <td>Heikkinen, Miss. Laina</td>\n",
       "      <td>female</td>\n",
       "      <td>26.0</td>\n",
       "      <td>0</td>\n",
       "      <td>0</td>\n",
       "      <td>STON/O2. 3101282</td>\n",
       "      <td>7.9250</td>\n",
       "      <td>NaN</td>\n",
       "      <td>S</td>\n",
       "    </tr>\n",
       "    <tr>\n",
       "      <th>3</th>\n",
       "      <td>4</td>\n",
       "      <td>1</td>\n",
       "      <td>1</td>\n",
       "      <td>Futrelle, Mrs. Jacques Heath (Lily May Peel)</td>\n",
       "      <td>female</td>\n",
       "      <td>35.0</td>\n",
       "      <td>1</td>\n",
       "      <td>0</td>\n",
       "      <td>113803</td>\n",
       "      <td>53.1000</td>\n",
       "      <td>C123</td>\n",
       "      <td>S</td>\n",
       "    </tr>\n",
       "    <tr>\n",
       "      <th>4</th>\n",
       "      <td>5</td>\n",
       "      <td>0</td>\n",
       "      <td>3</td>\n",
       "      <td>Allen, Mr. William Henry</td>\n",
       "      <td>male</td>\n",
       "      <td>35.0</td>\n",
       "      <td>0</td>\n",
       "      <td>0</td>\n",
       "      <td>373450</td>\n",
       "      <td>8.0500</td>\n",
       "      <td>NaN</td>\n",
       "      <td>S</td>\n",
       "    </tr>\n",
       "  </tbody>\n",
       "</table>\n",
       "</div>"
      ],
      "text/plain": [
       "   PassengerId  Survived  Pclass  \\\n",
       "0            1         0       3   \n",
       "1            2         1       1   \n",
       "2            3         1       3   \n",
       "3            4         1       1   \n",
       "4            5         0       3   \n",
       "\n",
       "                                                Name     Sex   Age  SibSp  \\\n",
       "0                            Braund, Mr. Owen Harris    male  22.0      1   \n",
       "1  Cumings, Mrs. John Bradley (Florence Briggs Th...  female  38.0      1   \n",
       "2                             Heikkinen, Miss. Laina  female  26.0      0   \n",
       "3       Futrelle, Mrs. Jacques Heath (Lily May Peel)  female  35.0      1   \n",
       "4                           Allen, Mr. William Henry    male  35.0      0   \n",
       "\n",
       "   Parch            Ticket     Fare Cabin Embarked  \n",
       "0      0         A/5 21171   7.2500   NaN        S  \n",
       "1      0          PC 17599  71.2833   C85        C  \n",
       "2      0  STON/O2. 3101282   7.9250   NaN        S  \n",
       "3      0            113803  53.1000  C123        S  \n",
       "4      0            373450   8.0500   NaN        S  "
      ]
     },
     "execution_count": 3,
     "metadata": {},
     "output_type": "execute_result"
    }
   ],
   "source": [
    "data.head()"
   ]
  },
  {
   "cell_type": "code",
   "execution_count": 4,
   "id": "68c86b96",
   "metadata": {
    "execution": {
     "iopub.execute_input": "2025-08-10T22:47:30.274724Z",
     "iopub.status.busy": "2025-08-10T22:47:30.274036Z",
     "iopub.status.idle": "2025-08-10T22:47:30.279214Z",
     "shell.execute_reply": "2025-08-10T22:47:30.278448Z"
    },
    "papermill": {
     "duration": 0.015569,
     "end_time": "2025-08-10T22:47:30.280527",
     "exception": false,
     "start_time": "2025-08-10T22:47:30.264958",
     "status": "completed"
    },
    "tags": []
   },
   "outputs": [
    {
     "data": {
      "text/plain": [
       "(891, 12)"
      ]
     },
     "execution_count": 4,
     "metadata": {},
     "output_type": "execute_result"
    }
   ],
   "source": [
    "data.shape"
   ]
  },
  {
   "cell_type": "code",
   "execution_count": 5,
   "id": "2ebf58a8",
   "metadata": {
    "execution": {
     "iopub.execute_input": "2025-08-10T22:47:30.298215Z",
     "iopub.status.busy": "2025-08-10T22:47:30.297901Z",
     "iopub.status.idle": "2025-08-10T22:47:30.319039Z",
     "shell.execute_reply": "2025-08-10T22:47:30.317952Z"
    },
    "papermill": {
     "duration": 0.031604,
     "end_time": "2025-08-10T22:47:30.320473",
     "exception": false,
     "start_time": "2025-08-10T22:47:30.288869",
     "status": "completed"
    },
    "tags": []
   },
   "outputs": [
    {
     "name": "stdout",
     "output_type": "stream",
     "text": [
      "<class 'pandas.core.frame.DataFrame'>\n",
      "RangeIndex: 891 entries, 0 to 890\n",
      "Data columns (total 12 columns):\n",
      " #   Column       Non-Null Count  Dtype  \n",
      "---  ------       --------------  -----  \n",
      " 0   PassengerId  891 non-null    int64  \n",
      " 1   Survived     891 non-null    int64  \n",
      " 2   Pclass       891 non-null    int64  \n",
      " 3   Name         891 non-null    object \n",
      " 4   Sex          891 non-null    object \n",
      " 5   Age          714 non-null    float64\n",
      " 6   SibSp        891 non-null    int64  \n",
      " 7   Parch        891 non-null    int64  \n",
      " 8   Ticket       891 non-null    object \n",
      " 9   Fare         891 non-null    float64\n",
      " 10  Cabin        204 non-null    object \n",
      " 11  Embarked     889 non-null    object \n",
      "dtypes: float64(2), int64(5), object(5)\n",
      "memory usage: 83.7+ KB\n"
     ]
    }
   ],
   "source": [
    "data.info()"
   ]
  },
  {
   "cell_type": "code",
   "execution_count": 6,
   "id": "4077c8cc",
   "metadata": {
    "execution": {
     "iopub.execute_input": "2025-08-10T22:47:30.338565Z",
     "iopub.status.busy": "2025-08-10T22:47:30.337832Z",
     "iopub.status.idle": "2025-08-10T22:47:30.345453Z",
     "shell.execute_reply": "2025-08-10T22:47:30.344612Z"
    },
    "papermill": {
     "duration": 0.017823,
     "end_time": "2025-08-10T22:47:30.346706",
     "exception": false,
     "start_time": "2025-08-10T22:47:30.328883",
     "status": "completed"
    },
    "tags": []
   },
   "outputs": [
    {
     "data": {
      "text/plain": [
       "PassengerId      0\n",
       "Survived         0\n",
       "Pclass           0\n",
       "Name             0\n",
       "Sex              0\n",
       "Age            177\n",
       "SibSp            0\n",
       "Parch            0\n",
       "Ticket           0\n",
       "Fare             0\n",
       "Cabin          687\n",
       "Embarked         2\n",
       "dtype: int64"
      ]
     },
     "execution_count": 6,
     "metadata": {},
     "output_type": "execute_result"
    }
   ],
   "source": [
    "data.isna().sum()"
   ]
  },
  {
   "cell_type": "code",
   "execution_count": 7,
   "id": "c1e55811",
   "metadata": {
    "execution": {
     "iopub.execute_input": "2025-08-10T22:47:30.364106Z",
     "iopub.status.busy": "2025-08-10T22:47:30.363767Z",
     "iopub.status.idle": "2025-08-10T22:47:30.371800Z",
     "shell.execute_reply": "2025-08-10T22:47:30.370910Z"
    },
    "papermill": {
     "duration": 0.018347,
     "end_time": "2025-08-10T22:47:30.373229",
     "exception": false,
     "start_time": "2025-08-10T22:47:30.354882",
     "status": "completed"
    },
    "tags": []
   },
   "outputs": [],
   "source": [
    "data.drop(['Cabin'] , axis = 1 , inplace = True)"
   ]
  },
  {
   "cell_type": "code",
   "execution_count": 8,
   "id": "d6ef4f41",
   "metadata": {
    "execution": {
     "iopub.execute_input": "2025-08-10T22:47:30.391284Z",
     "iopub.status.busy": "2025-08-10T22:47:30.390670Z",
     "iopub.status.idle": "2025-08-10T22:47:30.397685Z",
     "shell.execute_reply": "2025-08-10T22:47:30.396857Z"
    },
    "papermill": {
     "duration": 0.017482,
     "end_time": "2025-08-10T22:47:30.399103",
     "exception": false,
     "start_time": "2025-08-10T22:47:30.381621",
     "status": "completed"
    },
    "tags": []
   },
   "outputs": [
    {
     "data": {
      "text/plain": [
       "Embarked\n",
       "S    644\n",
       "C    168\n",
       "Q     77\n",
       "Name: count, dtype: int64"
      ]
     },
     "execution_count": 8,
     "metadata": {},
     "output_type": "execute_result"
    }
   ],
   "source": [
    "data['Embarked'].value_counts()"
   ]
  },
  {
   "cell_type": "code",
   "execution_count": 9,
   "id": "c95b4e84",
   "metadata": {
    "execution": {
     "iopub.execute_input": "2025-08-10T22:47:30.417026Z",
     "iopub.status.busy": "2025-08-10T22:47:30.416429Z",
     "iopub.status.idle": "2025-08-10T22:47:30.421745Z",
     "shell.execute_reply": "2025-08-10T22:47:30.420890Z"
    },
    "papermill": {
     "duration": 0.015539,
     "end_time": "2025-08-10T22:47:30.422961",
     "exception": false,
     "start_time": "2025-08-10T22:47:30.407422",
     "status": "completed"
    },
    "tags": []
   },
   "outputs": [],
   "source": [
    "data['Embarked'] = data['Embarked'].fillna('S')"
   ]
  },
  {
   "cell_type": "code",
   "execution_count": 10,
   "id": "50a51843",
   "metadata": {
    "execution": {
     "iopub.execute_input": "2025-08-10T22:47:30.440825Z",
     "iopub.status.busy": "2025-08-10T22:47:30.440277Z",
     "iopub.status.idle": "2025-08-10T22:47:30.447290Z",
     "shell.execute_reply": "2025-08-10T22:47:30.446617Z"
    },
    "papermill": {
     "duration": 0.017381,
     "end_time": "2025-08-10T22:47:30.448582",
     "exception": false,
     "start_time": "2025-08-10T22:47:30.431201",
     "status": "completed"
    },
    "tags": []
   },
   "outputs": [
    {
     "data": {
      "text/plain": [
       "PassengerId      0\n",
       "Survived         0\n",
       "Pclass           0\n",
       "Name             0\n",
       "Sex              0\n",
       "Age            177\n",
       "SibSp            0\n",
       "Parch            0\n",
       "Ticket           0\n",
       "Fare             0\n",
       "Embarked         0\n",
       "dtype: int64"
      ]
     },
     "execution_count": 10,
     "metadata": {},
     "output_type": "execute_result"
    }
   ],
   "source": [
    "data.isna().sum()"
   ]
  },
  {
   "cell_type": "code",
   "execution_count": 11,
   "id": "b9df575d",
   "metadata": {
    "execution": {
     "iopub.execute_input": "2025-08-10T22:47:30.467247Z",
     "iopub.status.busy": "2025-08-10T22:47:30.466595Z",
     "iopub.status.idle": "2025-08-10T22:47:30.496681Z",
     "shell.execute_reply": "2025-08-10T22:47:30.495860Z"
    },
    "papermill": {
     "duration": 0.040822,
     "end_time": "2025-08-10T22:47:30.498056",
     "exception": false,
     "start_time": "2025-08-10T22:47:30.457234",
     "status": "completed"
    },
    "tags": []
   },
   "outputs": [
    {
     "data": {
      "text/html": [
       "<div>\n",
       "<style scoped>\n",
       "    .dataframe tbody tr th:only-of-type {\n",
       "        vertical-align: middle;\n",
       "    }\n",
       "\n",
       "    .dataframe tbody tr th {\n",
       "        vertical-align: top;\n",
       "    }\n",
       "\n",
       "    .dataframe thead th {\n",
       "        text-align: right;\n",
       "    }\n",
       "</style>\n",
       "<table border=\"1\" class=\"dataframe\">\n",
       "  <thead>\n",
       "    <tr style=\"text-align: right;\">\n",
       "      <th></th>\n",
       "      <th>PassengerId</th>\n",
       "      <th>Survived</th>\n",
       "      <th>Pclass</th>\n",
       "      <th>Age</th>\n",
       "      <th>SibSp</th>\n",
       "      <th>Parch</th>\n",
       "      <th>Fare</th>\n",
       "    </tr>\n",
       "  </thead>\n",
       "  <tbody>\n",
       "    <tr>\n",
       "      <th>count</th>\n",
       "      <td>891.000000</td>\n",
       "      <td>891.000000</td>\n",
       "      <td>891.000000</td>\n",
       "      <td>714.000000</td>\n",
       "      <td>891.000000</td>\n",
       "      <td>891.000000</td>\n",
       "      <td>891.000000</td>\n",
       "    </tr>\n",
       "    <tr>\n",
       "      <th>mean</th>\n",
       "      <td>446.000000</td>\n",
       "      <td>0.383838</td>\n",
       "      <td>2.308642</td>\n",
       "      <td>29.699118</td>\n",
       "      <td>0.523008</td>\n",
       "      <td>0.381594</td>\n",
       "      <td>32.204208</td>\n",
       "    </tr>\n",
       "    <tr>\n",
       "      <th>std</th>\n",
       "      <td>257.353842</td>\n",
       "      <td>0.486592</td>\n",
       "      <td>0.836071</td>\n",
       "      <td>14.526497</td>\n",
       "      <td>1.102743</td>\n",
       "      <td>0.806057</td>\n",
       "      <td>49.693429</td>\n",
       "    </tr>\n",
       "    <tr>\n",
       "      <th>min</th>\n",
       "      <td>1.000000</td>\n",
       "      <td>0.000000</td>\n",
       "      <td>1.000000</td>\n",
       "      <td>0.420000</td>\n",
       "      <td>0.000000</td>\n",
       "      <td>0.000000</td>\n",
       "      <td>0.000000</td>\n",
       "    </tr>\n",
       "    <tr>\n",
       "      <th>25%</th>\n",
       "      <td>223.500000</td>\n",
       "      <td>0.000000</td>\n",
       "      <td>2.000000</td>\n",
       "      <td>20.125000</td>\n",
       "      <td>0.000000</td>\n",
       "      <td>0.000000</td>\n",
       "      <td>7.910400</td>\n",
       "    </tr>\n",
       "    <tr>\n",
       "      <th>50%</th>\n",
       "      <td>446.000000</td>\n",
       "      <td>0.000000</td>\n",
       "      <td>3.000000</td>\n",
       "      <td>28.000000</td>\n",
       "      <td>0.000000</td>\n",
       "      <td>0.000000</td>\n",
       "      <td>14.454200</td>\n",
       "    </tr>\n",
       "    <tr>\n",
       "      <th>75%</th>\n",
       "      <td>668.500000</td>\n",
       "      <td>1.000000</td>\n",
       "      <td>3.000000</td>\n",
       "      <td>38.000000</td>\n",
       "      <td>1.000000</td>\n",
       "      <td>0.000000</td>\n",
       "      <td>31.000000</td>\n",
       "    </tr>\n",
       "    <tr>\n",
       "      <th>max</th>\n",
       "      <td>891.000000</td>\n",
       "      <td>1.000000</td>\n",
       "      <td>3.000000</td>\n",
       "      <td>80.000000</td>\n",
       "      <td>8.000000</td>\n",
       "      <td>6.000000</td>\n",
       "      <td>512.329200</td>\n",
       "    </tr>\n",
       "  </tbody>\n",
       "</table>\n",
       "</div>"
      ],
      "text/plain": [
       "       PassengerId    Survived      Pclass         Age       SibSp  \\\n",
       "count   891.000000  891.000000  891.000000  714.000000  891.000000   \n",
       "mean    446.000000    0.383838    2.308642   29.699118    0.523008   \n",
       "std     257.353842    0.486592    0.836071   14.526497    1.102743   \n",
       "min       1.000000    0.000000    1.000000    0.420000    0.000000   \n",
       "25%     223.500000    0.000000    2.000000   20.125000    0.000000   \n",
       "50%     446.000000    0.000000    3.000000   28.000000    0.000000   \n",
       "75%     668.500000    1.000000    3.000000   38.000000    1.000000   \n",
       "max     891.000000    1.000000    3.000000   80.000000    8.000000   \n",
       "\n",
       "            Parch        Fare  \n",
       "count  891.000000  891.000000  \n",
       "mean     0.381594   32.204208  \n",
       "std      0.806057   49.693429  \n",
       "min      0.000000    0.000000  \n",
       "25%      0.000000    7.910400  \n",
       "50%      0.000000   14.454200  \n",
       "75%      0.000000   31.000000  \n",
       "max      6.000000  512.329200  "
      ]
     },
     "execution_count": 11,
     "metadata": {},
     "output_type": "execute_result"
    }
   ],
   "source": [
    "data.describe()"
   ]
  },
  {
   "cell_type": "code",
   "execution_count": 12,
   "id": "93203fbe",
   "metadata": {
    "execution": {
     "iopub.execute_input": "2025-08-10T22:47:30.516983Z",
     "iopub.status.busy": "2025-08-10T22:47:30.516438Z",
     "iopub.status.idle": "2025-08-10T22:47:30.834354Z",
     "shell.execute_reply": "2025-08-10T22:47:30.833481Z"
    },
    "papermill": {
     "duration": 0.329019,
     "end_time": "2025-08-10T22:47:30.835752",
     "exception": false,
     "start_time": "2025-08-10T22:47:30.506733",
     "status": "completed"
    },
    "tags": []
   },
   "outputs": [
    {
     "name": "stderr",
     "output_type": "stream",
     "text": [
      "/usr/local/lib/python3.11/dist-packages/numpy/lib/histograms.py:825: RuntimeWarning: invalid value encountered in greater_equal\n",
      "  keep = (tmp_a >= first_edge)\n",
      "/usr/local/lib/python3.11/dist-packages/numpy/lib/histograms.py:826: RuntimeWarning: invalid value encountered in less_equal\n",
      "  keep &= (tmp_a <= last_edge)\n"
     ]
    },
    {
     "data": {
      "image/png": "[encoded data removed]",
      "text/plain": [
       "<Figure size 640x480 with 1 Axes>"
      ]
     },
     "metadata": {},
     "output_type": "display_data"
    }
   ],
   "source": [
    "plt.hist(data['Age'], bins=20, edgecolor='k')  # Adjust the number of bins as needed\n",
    "plt.xlabel('Age')\n",
    "plt.ylabel('Frequency')\n",
    "plt.title('Age Distribution Histogram')\n",
    "plt.grid(True)"
   ]
  },
  {
   "cell_type": "code",
   "execution_count": 13,
   "id": "a7e4a3ef",
   "metadata": {
    "execution": {
     "iopub.execute_input": "2025-08-10T22:47:30.856624Z",
     "iopub.status.busy": "2025-08-10T22:47:30.856124Z",
     "iopub.status.idle": "2025-08-10T22:47:31.192937Z",
     "shell.execute_reply": "2025-08-10T22:47:31.192034Z"
    },
    "papermill": {
     "duration": 0.348452,
     "end_time": "2025-08-10T22:47:31.194325",
     "exception": false,
     "start_time": "2025-08-10T22:47:30.845873",
     "status": "completed"
    },
    "tags": []
   },
   "outputs": [
    {
     "name": "stderr",
     "output_type": "stream",
     "text": [
      "/usr/local/lib/python3.11/dist-packages/seaborn/_oldcore.py:1119: FutureWarning: use_inf_as_na option is deprecated and will be removed in a future version. Convert inf values to NaN before operating instead.\n",
      "  with pd.option_context('mode.use_inf_as_na', True):\n"
     ]
    },
    {
     "data": {
      "image/png": "[encoded data removed]",
      "text/plain": [
       "<Figure size 640x480 with 1 Axes>"
      ]
     },
     "metadata": {},
     "output_type": "display_data"
    }
   ],
   "source": [
    "#Age distribution plot \n",
    "\n",
    "sns.set()\n",
    "# Create a distribution plot\n",
    "sns.histplot(data['Age'] , kde = True)\n",
    "\n",
    "# Add labels and title (optional)\n",
    "plt.xlabel('Age')\n",
    "plt.ylabel('Count')\n",
    "plt.title('Ages Distribution Plot')\n",
    "\n",
    "# Show the plot\n",
    "plt.show()"
   ]
  },
  {
   "cell_type": "code",
   "execution_count": 14,
   "id": "4af86fa9",
   "metadata": {
    "execution": {
     "iopub.execute_input": "2025-08-10T22:47:31.215404Z",
     "iopub.status.busy": "2025-08-10T22:47:31.214723Z",
     "iopub.status.idle": "2025-08-10T22:47:31.220161Z",
     "shell.execute_reply": "2025-08-10T22:47:31.219312Z"
    },
    "papermill": {
     "duration": 0.017367,
     "end_time": "2025-08-10T22:47:31.221615",
     "exception": false,
     "start_time": "2025-08-10T22:47:31.204248",
     "status": "completed"
    },
    "tags": []
   },
   "outputs": [],
   "source": [
    "data['Age'] = data['Age'].fillna(data['Age'].mean())"
   ]
  },
  {
   "cell_type": "code",
   "execution_count": 15,
   "id": "292572ab",
   "metadata": {
    "execution": {
     "iopub.execute_input": "2025-08-10T22:47:31.243181Z",
     "iopub.status.busy": "2025-08-10T22:47:31.242368Z",
     "iopub.status.idle": "2025-08-10T22:47:31.249710Z",
     "shell.execute_reply": "2025-08-10T22:47:31.249044Z"
    },
    "papermill": {
     "duration": 0.019295,
     "end_time": "2025-08-10T22:47:31.250953",
     "exception": false,
     "start_time": "2025-08-10T22:47:31.231658",
     "status": "completed"
    },
    "tags": []
   },
   "outputs": [
    {
     "data": {
      "text/plain": [
       "PassengerId    0\n",
       "Survived       0\n",
       "Pclass         0\n",
       "Name           0\n",
       "Sex            0\n",
       "Age            0\n",
       "SibSp          0\n",
       "Parch          0\n",
       "Ticket         0\n",
       "Fare           0\n",
       "Embarked       0\n",
       "dtype: int64"
      ]
     },
     "execution_count": 15,
     "metadata": {},
     "output_type": "execute_result"
    }
   ],
   "source": [
    "data.isna().sum()"
   ]
  },
  {
   "cell_type": "markdown",
   "id": "6eb7cae8",
   "metadata": {
    "papermill": {
     "duration": 0.009532,
     "end_time": "2025-08-10T22:47:31.334082",
     "exception": false,
     "start_time": "2025-08-10T22:47:31.324550",
     "status": "completed"
    },
    "tags": []
   },
   "source": [
    "### Data Visualization "
   ]
  },
  {
   "cell_type": "code",
   "execution_count": 16,
   "id": "574bc6f0",
   "metadata": {
    "execution": {
     "iopub.execute_input": "2025-08-10T22:47:31.355126Z",
     "iopub.status.busy": "2025-08-10T22:47:31.354785Z",
     "iopub.status.idle": "2025-08-10T22:47:31.715358Z",
     "shell.execute_reply": "2025-08-10T22:47:31.714441Z"
    },
    "papermill": {
     "duration": 0.372813,
     "end_time": "2025-08-10T22:47:31.716763",
     "exception": false,
     "start_time": "2025-08-10T22:47:31.343950",
     "status": "completed"
    },
    "tags": []
   },
   "outputs": [
    {
     "data": {
      "image/png": "[encoded data removed]",
      "text/plain": [
       "<Figure size 1200x500 with 2 Axes>"
      ]
     },
     "metadata": {},
     "output_type": "display_data"
    }
   ],
   "source": [
    "fig, axes = plt.subplots(1, 2, figsize=(12, 5))  # Adjust the figure size as needed\n",
    "\n",
    "# Plot the first count plot on the first axis\n",
    "sns.countplot(data=data, x='Sex', ax=axes[0], width=0.4)\n",
    "axes[0].set_xlabel('Sex')\n",
    "axes[0].set_ylabel('Count')\n",
    "axes[0].set_title('Count Plot of Sex')\n",
    "\n",
    "# Plot the second count plot on the second axis\n",
    "sns.countplot(data=data, x='Sex', hue='Survived', ax=axes[1], width=0.4)\n",
    "axes[1].set_xlabel('Sex')\n",
    "axes[1].set_ylabel('Count')\n",
    "axes[1].set_title('Count Plot of Sex with Survived Hue')\n",
    "\n",
    "# Adjust layout\n",
    "plt.tight_layout()\n",
    "\n",
    "# Show the plots\n",
    "plt.show()"
   ]
  },
  {
   "cell_type": "code",
   "execution_count": 17,
   "id": "d61cdacb",
   "metadata": {
    "execution": {
     "iopub.execute_input": "2025-08-10T22:47:31.739035Z",
     "iopub.status.busy": "2025-08-10T22:47:31.738715Z",
     "iopub.status.idle": "2025-08-10T22:47:32.132647Z",
     "shell.execute_reply": "2025-08-10T22:47:32.131822Z"
    },
    "papermill": {
     "duration": 0.406794,
     "end_time": "2025-08-10T22:47:32.134064",
     "exception": false,
     "start_time": "2025-08-10T22:47:31.727270",
     "status": "completed"
    },
    "tags": []
   },
   "outputs": [
    {
     "data": {
      "text/plain": [
       "Text(0.5, 1.0, 'Count Plot survived of Embarked port ')"
      ]
     },
     "execution_count": 17,
     "metadata": {},
     "output_type": "execute_result"
    },
    {
     "data": {
      "image/png": "[encoded data removed]",
      "text/plain": [
       "<Figure size 1200x500 with 2 Axes>"
      ]
     },
     "metadata": {},
     "output_type": "display_data"
    }
   ],
   "source": [
    "fig , axes = plt.subplots(1 , 2 , figsize = (12,5))\n",
    "sns.countplot(data = data ,  x ='Embarked' , ax = axes[0])\n",
    "axes[0].set_xlabel('Port')\n",
    "axes[0].set_ylabel('Count')\n",
    "axes[0].set_title('Count Plot of Embarked port')\n",
    "\n",
    "sns.countplot(data = data ,  x ='Embarked' , hue = 'Survived' , ax = axes[1])\n",
    "axes[0].set_xlabel('Port')\n",
    "axes[0].set_ylabel('Count')\n",
    "axes[0].set_title('Count Plot survived of Embarked port ')"
   ]
  },
  {
   "cell_type": "code",
   "execution_count": 18,
   "id": "b229cb38",
   "metadata": {
    "execution": {
     "iopub.execute_input": "2025-08-10T22:47:32.157493Z",
     "iopub.status.busy": "2025-08-10T22:47:32.156937Z",
     "iopub.status.idle": "2025-08-10T22:47:32.527413Z",
     "shell.execute_reply": "2025-08-10T22:47:32.526553Z"
    },
    "papermill": {
     "duration": 0.383693,
     "end_time": "2025-08-10T22:47:32.528948",
     "exception": false,
     "start_time": "2025-08-10T22:47:32.145255",
     "status": "completed"
    },
    "tags": []
   },
   "outputs": [
    {
     "data": {
      "text/plain": [
       "Text(0.5, 1.0, 'Count Plot survived of each class ')"
      ]
     },
     "execution_count": 18,
     "metadata": {},
     "output_type": "execute_result"
    },
    {
     "data": {
      "image/png": "[encoded data removed]",
      "text/plain": [
       "<Figure size 1200x500 with 2 Axes>"
      ]
     },
     "metadata": {},
     "output_type": "display_data"
    }
   ],
   "source": [
    "fig , axes = plt.subplots(1 , 2 , figsize = (12,5))\n",
    "sns.countplot(data = data ,  x ='Pclass' , ax = axes[0])\n",
    "axes[0].set_xlabel('Class')\n",
    "axes[0].set_ylabel('Count')\n",
    "axes[0].set_title('Count Plot of classes')\n",
    "\n",
    "sns.countplot(data = data ,  x ='Pclass' , hue = 'Survived' , ax = axes[1])\n",
    "axes[0].set_xlabel('Class')\n",
    "axes[0].set_ylabel('Count')\n",
    "axes[0].set_title('Count Plot survived of each class ')"
   ]
  },
  {
   "cell_type": "code",
   "execution_count": 19,
   "id": "edf9e0ce",
   "metadata": {
    "execution": {
     "iopub.execute_input": "2025-08-10T22:47:32.555772Z",
     "iopub.status.busy": "2025-08-10T22:47:32.554981Z",
     "iopub.status.idle": "2025-08-10T22:47:32.938019Z",
     "shell.execute_reply": "2025-08-10T22:47:32.937162Z"
    },
    "papermill": {
     "duration": 0.397427,
     "end_time": "2025-08-10T22:47:32.939380",
     "exception": false,
     "start_time": "2025-08-10T22:47:32.541953",
     "status": "completed"
    },
    "tags": []
   },
   "outputs": [
    {
     "name": "stderr",
     "output_type": "stream",
     "text": [
      "/usr/local/lib/python3.11/dist-packages/seaborn/_oldcore.py:1119: FutureWarning: use_inf_as_na option is deprecated and will be removed in a future version. Convert inf values to NaN before operating instead.\n",
      "  with pd.option_context('mode.use_inf_as_na', True):\n"
     ]
    },
    {
     "data": {
      "image/png": "[encoded data removed]",
      "text/plain": [
       "<Figure size 640x480 with 1 Axes>"
      ]
     },
     "metadata": {},
     "output_type": "display_data"
    }
   ],
   "source": [
    "#Age distribution plot \n",
    "\n",
    "sns.set()\n",
    "# Create a distribution plot\n",
    "sns.histplot(data['Fare'] , kde = True)\n",
    "\n",
    "# Add labels and title (optional)\n",
    "plt.xlabel('Fare')\n",
    "plt.ylabel('Count')\n",
    "plt.title('Fare Distribution Plot')\n",
    "\n",
    "# Show the plot\n",
    "plt.show()"
   ]
  },
  {
   "cell_type": "code",
   "execution_count": 20,
   "id": "e5a6f1b8",
   "metadata": {
    "execution": {
     "iopub.execute_input": "2025-08-10T22:47:32.965255Z",
     "iopub.status.busy": "2025-08-10T22:47:32.964678Z",
     "iopub.status.idle": "2025-08-10T22:47:32.968472Z",
     "shell.execute_reply": "2025-08-10T22:47:32.967754Z"
    },
    "papermill": {
     "duration": 0.018085,
     "end_time": "2025-08-10T22:47:32.969737",
     "exception": false,
     "start_time": "2025-08-10T22:47:32.951652",
     "status": "completed"
    },
    "tags": []
   },
   "outputs": [],
   "source": [
    "# data['Fare'] = np.log(data['Fare'])"
   ]
  },
  {
   "cell_type": "code",
   "execution_count": 21,
   "id": "95caae6b",
   "metadata": {
    "execution": {
     "iopub.execute_input": "2025-08-10T22:47:32.995443Z",
     "iopub.status.busy": "2025-08-10T22:47:32.994684Z",
     "iopub.status.idle": "2025-08-10T22:47:33.379899Z",
     "shell.execute_reply": "2025-08-10T22:47:33.379122Z"
    },
    "papermill": {
     "duration": 0.399675,
     "end_time": "2025-08-10T22:47:33.381554",
     "exception": false,
     "start_time": "2025-08-10T22:47:32.981879",
     "status": "completed"
    },
    "tags": []
   },
   "outputs": [
    {
     "name": "stderr",
     "output_type": "stream",
     "text": [
      "/usr/local/lib/python3.11/dist-packages/seaborn/_oldcore.py:1119: FutureWarning: use_inf_as_na option is deprecated and will be removed in a future version. Convert inf values to NaN before operating instead.\n",
      "  with pd.option_context('mode.use_inf_as_na', True):\n"
     ]
    },
    {
     "data": {
      "image/png": "[encoded data removed]",
      "text/plain": [
       "<Figure size 640x480 with 1 Axes>"
      ]
     },
     "metadata": {},
     "output_type": "display_data"
    }
   ],
   "source": [
    "#Age distribution plot \n",
    "\n",
    "sns.set()\n",
    "# Create a distribution plot\n",
    "sns.histplot(data['Fare'] , kde = True)\n",
    "\n",
    "# Add labels and title (optional)\n",
    "plt.xlabel('Fare')\n",
    "plt.ylabel('Count')\n",
    "plt.title('Fare Distribution Plot')\n",
    "\n",
    "# Show the plot\n",
    "plt.show()"
   ]
  },
  {
   "cell_type": "code",
   "execution_count": 22,
   "id": "cf63498e",
   "metadata": {
    "execution": {
     "iopub.execute_input": "2025-08-10T22:47:33.409670Z",
     "iopub.status.busy": "2025-08-10T22:47:33.408952Z",
     "iopub.status.idle": "2025-08-10T22:47:33.901705Z",
     "shell.execute_reply": "2025-08-10T22:47:33.900891Z"
    },
    "papermill": {
     "duration": 0.508342,
     "end_time": "2025-08-10T22:47:33.903316",
     "exception": false,
     "start_time": "2025-08-10T22:47:33.394974",
     "status": "completed"
    },
    "tags": []
   },
   "outputs": [
    {
     "data": {
      "text/plain": [
       "Text(0.5, 1.0, 'Count Plot survived -SibSp ')"
      ]
     },
     "execution_count": 22,
     "metadata": {},
     "output_type": "execute_result"
    },
    {
     "data": {
      "image/png": "[encoded data removed]",
      "text/plain": [
       "<Figure size 1200x500 with 2 Axes>"
      ]
     },
     "metadata": {},
     "output_type": "display_data"
    }
   ],
   "source": [
    "fig , axes = plt.subplots(1 , 2 , figsize = (12,5))\n",
    "sns.countplot(data = data ,  x ='SibSp' , ax = axes[0])\n",
    "axes[0].set_xlabel('SibSp')\n",
    "axes[0].set_ylabel('SibSp')\n",
    "axes[0].set_title('Count Plot of SibSp')\n",
    "\n",
    "sns.countplot(data = data ,  x ='SibSp' , hue = 'Survived' , ax = axes[1])\n",
    "axes[0].set_xlabel('SibSp')\n",
    "axes[0].set_ylabel('Count')\n",
    "axes[0].set_title('Count Plot survived -SibSp ')"
   ]
  },
  {
   "cell_type": "code",
   "execution_count": 23,
   "id": "977f7e2e",
   "metadata": {
    "execution": {
     "iopub.execute_input": "2025-08-10T22:47:33.933052Z",
     "iopub.status.busy": "2025-08-10T22:47:33.932755Z",
     "iopub.status.idle": "2025-08-10T22:47:34.413125Z",
     "shell.execute_reply": "2025-08-10T22:47:34.412275Z"
    },
    "papermill": {
     "duration": 0.496312,
     "end_time": "2025-08-10T22:47:34.414760",
     "exception": false,
     "start_time": "2025-08-10T22:47:33.918448",
     "status": "completed"
    },
    "tags": []
   },
   "outputs": [
    {
     "data": {
      "text/plain": [
       "Text(0.5, 1.0, 'Count Plot survived - Parch ')"
      ]
     },
     "execution_count": 23,
     "metadata": {},
     "output_type": "execute_result"
    },
    {
     "data": {
      "image/png": "[encoded data removed]",
      "text/plain": [
       "<Figure size 1200x500 with 2 Axes>"
      ]
     },
     "metadata": {},
     "output_type": "display_data"
    }
   ],
   "source": [
    "fig , axes = plt.subplots(1 , 2 , figsize = (12,5))\n",
    "sns.countplot(data = data ,  x ='Parch' , ax = axes[0])\n",
    "axes[0].set_xlabel('Parch')\n",
    "axes[0].set_ylabel('Count')\n",
    "axes[0].set_title('Count Plot of Parch')\n",
    "\n",
    "sns.countplot(data = data ,  x ='Parch' , hue = 'Survived' , ax = axes[1])\n",
    "axes[0].set_xlabel('Parch')\n",
    "axes[0].set_ylabel('Count')\n",
    "axes[0].set_title('Count Plot survived - Parch ')"
   ]
  },
  {
   "cell_type": "code",
   "execution_count": 24,
   "id": "c9487a7b",
   "metadata": {
    "execution": {
     "iopub.execute_input": "2025-08-10T22:47:34.445529Z",
     "iopub.status.busy": "2025-08-10T22:47:34.445221Z",
     "iopub.status.idle": "2025-08-10T22:47:34.464120Z",
     "shell.execute_reply": "2025-08-10T22:47:34.463253Z"
    },
    "papermill": {
     "duration": 0.034993,
     "end_time": "2025-08-10T22:47:34.465594",
     "exception": false,
     "start_time": "2025-08-10T22:47:34.430601",
     "status": "completed"
    },
    "tags": []
   },
   "outputs": [
    {
     "name": "stderr",
     "output_type": "stream",
     "text": [
      "/tmp/ipykernel_13/202854955.py:1: FutureWarning: Downcasting behavior in `replace` is deprecated and will be removed in a future version. To retain the old behavior, explicitly call `result.infer_objects(copy=False)`. To opt-in to the future behavior, set `pd.set_option('future.no_silent_downcasting', True)`\n",
      "  data.replace( {'male' : 0 , 'female':1} , inplace = True)\n",
      "/tmp/ipykernel_13/202854955.py:2: FutureWarning: Downcasting behavior in `replace` is deprecated and will be removed in a future version. To retain the old behavior, explicitly call `result.infer_objects(copy=False)`. To opt-in to the future behavior, set `pd.set_option('future.no_silent_downcasting', True)`\n",
      "  data.replace( {'S' : 0 , 'C':1 , 'Q':2} , inplace = True)\n"
     ]
    },
    {
     "data": {
      "text/html": [
       "<div>\n",
       "<style scoped>\n",
       "    .dataframe tbody tr th:only-of-type {\n",
       "        vertical-align: middle;\n",
       "    }\n",
       "\n",
       "    .dataframe tbody tr th {\n",
       "        vertical-align: top;\n",
       "    }\n",
       "\n",
       "    .dataframe thead th {\n",
       "        text-align: right;\n",
       "    }\n",
       "</style>\n",
       "<table border=\"1\" class=\"dataframe\">\n",
       "  <thead>\n",
       "    <tr style=\"text-align: right;\">\n",
       "      <th></th>\n",
       "      <th>PassengerId</th>\n",
       "      <th>Survived</th>\n",
       "      <th>Pclass</th>\n",
       "      <th>Name</th>\n",
       "      <th>Sex</th>\n",
       "      <th>Age</th>\n",
       "      <th>SibSp</th>\n",
       "      <th>Parch</th>\n",
       "      <th>Ticket</th>\n",
       "      <th>Fare</th>\n",
       "      <th>Embarked</th>\n",
       "    </tr>\n",
       "  </thead>\n",
       "  <tbody>\n",
       "    <tr>\n",
       "      <th>0</th>\n",
       "      <td>1</td>\n",
       "      <td>0</td>\n",
       "      <td>3</td>\n",
       "      <td>Braund, Mr. Owen Harris</td>\n",
       "      <td>0</td>\n",
       "      <td>22.000000</td>\n",
       "      <td>1</td>\n",
       "      <td>0</td>\n",
       "      <td>A/5 21171</td>\n",
       "      <td>7.2500</td>\n",
       "      <td>0</td>\n",
       "    </tr>\n",
       "    <tr>\n",
       "      <th>1</th>\n",
       "      <td>2</td>\n",
       "      <td>1</td>\n",
       "      <td>1</td>\n",
       "      <td>Cumings, Mrs. John Bradley (Florence Briggs Th...</td>\n",
       "      <td>1</td>\n",
       "      <td>38.000000</td>\n",
       "      <td>1</td>\n",
       "      <td>0</td>\n",
       "      <td>PC 17599</td>\n",
       "      <td>71.2833</td>\n",
       "      <td>1</td>\n",
       "    </tr>\n",
       "    <tr>\n",
       "      <th>2</th>\n",
       "      <td>3</td>\n",
       "      <td>1</td>\n",
       "      <td>3</td>\n",
       "      <td>Heikkinen, Miss. Laina</td>\n",
       "      <td>1</td>\n",
       "      <td>26.000000</td>\n",
       "      <td>0</td>\n",
       "      <td>0</td>\n",
       "      <td>STON/O2. 3101282</td>\n",
       "      <td>7.9250</td>\n",
       "      <td>0</td>\n",
       "    </tr>\n",
       "    <tr>\n",
       "      <th>3</th>\n",
       "      <td>4</td>\n",
       "      <td>1</td>\n",
       "      <td>1</td>\n",
       "      <td>Futrelle, Mrs. Jacques Heath (Lily May Peel)</td>\n",
       "      <td>1</td>\n",
       "      <td>35.000000</td>\n",
       "      <td>1</td>\n",
       "      <td>0</td>\n",
       "      <td>113803</td>\n",
       "      <td>53.1000</td>\n",
       "      <td>0</td>\n",
       "    </tr>\n",
       "    <tr>\n",
       "      <th>4</th>\n",
       "      <td>5</td>\n",
       "      <td>0</td>\n",
       "      <td>3</td>\n",
       "      <td>Allen, Mr. William Henry</td>\n",
       "      <td>0</td>\n",
       "      <td>35.000000</td>\n",
       "      <td>0</td>\n",
       "      <td>0</td>\n",
       "      <td>373450</td>\n",
       "      <td>8.0500</td>\n",
       "      <td>0</td>\n",
       "    </tr>\n",
       "    <tr>\n",
       "      <th>...</th>\n",
       "      <td>...</td>\n",
       "      <td>...</td>\n",
       "      <td>...</td>\n",
       "      <td>...</td>\n",
       "      <td>...</td>\n",
       "      <td>...</td>\n",
       "      <td>...</td>\n",
       "      <td>...</td>\n",
       "      <td>...</td>\n",
       "      <td>...</td>\n",
       "      <td>...</td>\n",
       "    </tr>\n",
       "    <tr>\n",
       "      <th>886</th>\n",
       "      <td>887</td>\n",
       "      <td>0</td>\n",
       "      <td>2</td>\n",
       "      <td>Montvila, Rev. Juozas</td>\n",
       "      <td>0</td>\n",
       "      <td>27.000000</td>\n",
       "      <td>0</td>\n",
       "      <td>0</td>\n",
       "      <td>211536</td>\n",
       "      <td>13.0000</td>\n",
       "      <td>0</td>\n",
       "    </tr>\n",
       "    <tr>\n",
       "      <th>887</th>\n",
       "      <td>888</td>\n",
       "      <td>1</td>\n",
       "      <td>1</td>\n",
       "      <td>Graham, Miss. Margaret Edith</td>\n",
       "      <td>1</td>\n",
       "      <td>19.000000</td>\n",
       "      <td>0</td>\n",
       "      <td>0</td>\n",
       "      <td>112053</td>\n",
       "      <td>30.0000</td>\n",
       "      <td>0</td>\n",
       "    </tr>\n",
       "    <tr>\n",
       "      <th>888</th>\n",
       "      <td>889</td>\n",
       "      <td>0</td>\n",
       "      <td>3</td>\n",
       "      <td>Johnston, Miss. Catherine Helen \"Carrie\"</td>\n",
       "      <td>1</td>\n",
       "      <td>29.699118</td>\n",
       "      <td>1</td>\n",
       "      <td>2</td>\n",
       "      <td>W./C. 6607</td>\n",
       "      <td>23.4500</td>\n",
       "      <td>0</td>\n",
       "    </tr>\n",
       "    <tr>\n",
       "      <th>889</th>\n",
       "      <td>890</td>\n",
       "      <td>1</td>\n",
       "      <td>1</td>\n",
       "      <td>Behr, Mr. Karl Howell</td>\n",
       "      <td>0</td>\n",
       "      <td>26.000000</td>\n",
       "      <td>0</td>\n",
       "      <td>0</td>\n",
       "      <td>111369</td>\n",
       "      <td>30.0000</td>\n",
       "      <td>1</td>\n",
       "    </tr>\n",
       "    <tr>\n",
       "      <th>890</th>\n",
       "      <td>891</td>\n",
       "      <td>0</td>\n",
       "      <td>3</td>\n",
       "      <td>Dooley, Mr. Patrick</td>\n",
       "      <td>0</td>\n",
       "      <td>32.000000</td>\n",
       "      <td>0</td>\n",
       "      <td>0</td>\n",
       "      <td>370376</td>\n",
       "      <td>7.7500</td>\n",
       "      <td>2</td>\n",
       "    </tr>\n",
       "  </tbody>\n",
       "</table>\n",
       "<p>891 rows × 11 columns</p>\n",
       "</div>"
      ],
      "text/plain": [
       "     PassengerId  Survived  Pclass  \\\n",
       "0              1         0       3   \n",
       "1              2         1       1   \n",
       "2              3         1       3   \n",
       "3              4         1       1   \n",
       "4              5         0       3   \n",
       "..           ...       ...     ...   \n",
       "886          887         0       2   \n",
       "887          888         1       1   \n",
       "888          889         0       3   \n",
       "889          890         1       1   \n",
       "890          891         0       3   \n",
       "\n",
       "                                                  Name  Sex        Age  SibSp  \\\n",
       "0                              Braund, Mr. Owen Harris    0  22.000000      1   \n",
       "1    Cumings, Mrs. John Bradley (Florence Briggs Th...    1  38.000000      1   \n",
       "2                               Heikkinen, Miss. Laina    1  26.000000      0   \n",
       "3         Futrelle, Mrs. Jacques Heath (Lily May Peel)    1  35.000000      1   \n",
       "4                             Allen, Mr. William Henry    0  35.000000      0   \n",
       "..                                                 ...  ...        ...    ...   \n",
       "886                              Montvila, Rev. Juozas    0  27.000000      0   \n",
       "887                       Graham, Miss. Margaret Edith    1  19.000000      0   \n",
       "888           Johnston, Miss. Catherine Helen \"Carrie\"    1  29.699118      1   \n",
       "889                              Behr, Mr. Karl Howell    0  26.000000      0   \n",
       "890                                Dooley, Mr. Patrick    0  32.000000      0   \n",
       "\n",
       "     Parch            Ticket     Fare  Embarked  \n",
       "0        0         A/5 21171   7.2500         0  \n",
       "1        0          PC 17599  71.2833         1  \n",
       "2        0  STON/O2. 3101282   7.9250         0  \n",
       "3        0            113803  53.1000         0  \n",
       "4        0            373450   8.0500         0  \n",
       "..     ...               ...      ...       ...  \n",
       "886      0            211536  13.0000         0  \n",
       "887      0            112053  30.0000         0  \n",
       "888      2        W./C. 6607  23.4500         0  \n",
       "889      0            111369  30.0000         1  \n",
       "890      0            370376   7.7500         2  \n",
       "\n",
       "[891 rows x 11 columns]"
      ]
     },
     "execution_count": 24,
     "metadata": {},
     "output_type": "execute_result"
    }
   ],
   "source": [
    "data.replace( {'male' : 0 , 'female':1} , inplace = True)\n",
    "data.replace( {'S' : 0 , 'C':1 , 'Q':2} , inplace = True)\n",
    "\n",
    "data"
   ]
  },
  {
   "cell_type": "code",
   "execution_count": 25,
   "id": "6e40e89d",
   "metadata": {
    "execution": {
     "iopub.execute_input": "2025-08-10T22:47:34.497014Z",
     "iopub.status.busy": "2025-08-10T22:47:34.496414Z",
     "iopub.status.idle": "2025-08-10T22:47:34.501411Z",
     "shell.execute_reply": "2025-08-10T22:47:34.500605Z"
    },
    "papermill": {
     "duration": 0.022015,
     "end_time": "2025-08-10T22:47:34.502748",
     "exception": false,
     "start_time": "2025-08-10T22:47:34.480733",
     "status": "completed"
    },
    "tags": []
   },
   "outputs": [],
   "source": [
    "data_1 = data.drop(['PassengerId' ,'Ticket' , 'Name' ] , axis = 1)"
   ]
  },
  {
   "cell_type": "code",
   "execution_count": 26,
   "id": "73d54ec7",
   "metadata": {
    "execution": {
     "iopub.execute_input": "2025-08-10T22:47:34.534265Z",
     "iopub.status.busy": "2025-08-10T22:47:34.533698Z",
     "iopub.status.idle": "2025-08-10T22:47:34.537527Z",
     "shell.execute_reply": "2025-08-10T22:47:34.536665Z"
    },
    "papermill": {
     "duration": 0.02098,
     "end_time": "2025-08-10T22:47:34.538857",
     "exception": false,
     "start_time": "2025-08-10T22:47:34.517877",
     "status": "completed"
    },
    "tags": []
   },
   "outputs": [],
   "source": [
    "# np.isinf(data_1).sum()\n",
    "# data_1.replace({np.inf : np.nan , -np.inf : np.nan} , inplace = True)\n",
    "# data_1.dropna(inplace =  True)\n",
    "# np.isinf(data_1).sum()\n"
   ]
  },
  {
   "cell_type": "code",
   "execution_count": 27,
   "id": "a75d9934",
   "metadata": {
    "execution": {
     "iopub.execute_input": "2025-08-10T22:47:34.572740Z",
     "iopub.status.busy": "2025-08-10T22:47:34.571924Z",
     "iopub.status.idle": "2025-08-10T22:47:34.577106Z",
     "shell.execute_reply": "2025-08-10T22:47:34.576414Z"
    },
    "papermill": {
     "duration": 0.022643,
     "end_time": "2025-08-10T22:47:34.578563",
     "exception": false,
     "start_time": "2025-08-10T22:47:34.555920",
     "status": "completed"
    },
    "tags": []
   },
   "outputs": [],
   "source": [
    "x = data_1.drop(['Survived']  , axis = 1) \n",
    "y = data_1['Survived']"
   ]
  },
  {
   "cell_type": "code",
   "execution_count": 28,
   "id": "33f3f647",
   "metadata": {
    "execution": {
     "iopub.execute_input": "2025-08-10T22:47:34.610407Z",
     "iopub.status.busy": "2025-08-10T22:47:34.609805Z",
     "iopub.status.idle": "2025-08-10T22:47:34.621807Z",
     "shell.execute_reply": "2025-08-10T22:47:34.621066Z"
    },
    "papermill": {
     "duration": 0.029187,
     "end_time": "2025-08-10T22:47:34.623067",
     "exception": false,
     "start_time": "2025-08-10T22:47:34.593880",
     "status": "completed"
    },
    "tags": []
   },
   "outputs": [
    {
     "data": {
      "text/html": [
       "<div>\n",
       "<style scoped>\n",
       "    .dataframe tbody tr th:only-of-type {\n",
       "        vertical-align: middle;\n",
       "    }\n",
       "\n",
       "    .dataframe tbody tr th {\n",
       "        vertical-align: top;\n",
       "    }\n",
       "\n",
       "    .dataframe thead th {\n",
       "        text-align: right;\n",
       "    }\n",
       "</style>\n",
       "<table border=\"1\" class=\"dataframe\">\n",
       "  <thead>\n",
       "    <tr style=\"text-align: right;\">\n",
       "      <th></th>\n",
       "      <th>Pclass</th>\n",
       "      <th>Sex</th>\n",
       "      <th>Age</th>\n",
       "      <th>SibSp</th>\n",
       "      <th>Parch</th>\n",
       "      <th>Fare</th>\n",
       "      <th>Embarked</th>\n",
       "    </tr>\n",
       "  </thead>\n",
       "  <tbody>\n",
       "    <tr>\n",
       "      <th>0</th>\n",
       "      <td>3</td>\n",
       "      <td>0</td>\n",
       "      <td>22.000000</td>\n",
       "      <td>1</td>\n",
       "      <td>0</td>\n",
       "      <td>7.2500</td>\n",
       "      <td>0</td>\n",
       "    </tr>\n",
       "    <tr>\n",
       "      <th>1</th>\n",
       "      <td>1</td>\n",
       "      <td>1</td>\n",
       "      <td>38.000000</td>\n",
       "      <td>1</td>\n",
       "      <td>0</td>\n",
       "      <td>71.2833</td>\n",
       "      <td>1</td>\n",
       "    </tr>\n",
       "    <tr>\n",
       "      <th>2</th>\n",
       "      <td>3</td>\n",
       "      <td>1</td>\n",
       "      <td>26.000000</td>\n",
       "      <td>0</td>\n",
       "      <td>0</td>\n",
       "      <td>7.9250</td>\n",
       "      <td>0</td>\n",
       "    </tr>\n",
       "    <tr>\n",
       "      <th>3</th>\n",
       "      <td>1</td>\n",
       "      <td>1</td>\n",
       "      <td>35.000000</td>\n",
       "      <td>1</td>\n",
       "      <td>0</td>\n",
       "      <td>53.1000</td>\n",
       "      <td>0</td>\n",
       "    </tr>\n",
       "    <tr>\n",
       "      <th>4</th>\n",
       "      <td>3</td>\n",
       "      <td>0</td>\n",
       "      <td>35.000000</td>\n",
       "      <td>0</td>\n",
       "      <td>0</td>\n",
       "      <td>8.0500</td>\n",
       "      <td>0</td>\n",
       "    </tr>\n",
       "    <tr>\n",
       "      <th>...</th>\n",
       "      <td>...</td>\n",
       "      <td>...</td>\n",
       "      <td>...</td>\n",
       "      <td>...</td>\n",
       "      <td>...</td>\n",
       "      <td>...</td>\n",
       "      <td>...</td>\n",
       "    </tr>\n",
       "    <tr>\n",
       "      <th>886</th>\n",
       "      <td>2</td>\n",
       "      <td>0</td>\n",
       "      <td>27.000000</td>\n",
       "      <td>0</td>\n",
       "      <td>0</td>\n",
       "      <td>13.0000</td>\n",
       "      <td>0</td>\n",
       "    </tr>\n",
       "    <tr>\n",
       "      <th>887</th>\n",
       "      <td>1</td>\n",
       "      <td>1</td>\n",
       "      <td>19.000000</td>\n",
       "      <td>0</td>\n",
       "      <td>0</td>\n",
       "      <td>30.0000</td>\n",
       "      <td>0</td>\n",
       "    </tr>\n",
       "    <tr>\n",
       "      <th>888</th>\n",
       "      <td>3</td>\n",
       "      <td>1</td>\n",
       "      <td>29.699118</td>\n",
       "      <td>1</td>\n",
       "      <td>2</td>\n",
       "      <td>23.4500</td>\n",
       "      <td>0</td>\n",
       "    </tr>\n",
       "    <tr>\n",
       "      <th>889</th>\n",
       "      <td>1</td>\n",
       "      <td>0</td>\n",
       "      <td>26.000000</td>\n",
       "      <td>0</td>\n",
       "      <td>0</td>\n",
       "      <td>30.0000</td>\n",
       "      <td>1</td>\n",
       "    </tr>\n",
       "    <tr>\n",
       "      <th>890</th>\n",
       "      <td>3</td>\n",
       "      <td>0</td>\n",
       "      <td>32.000000</td>\n",
       "      <td>0</td>\n",
       "      <td>0</td>\n",
       "      <td>7.7500</td>\n",
       "      <td>2</td>\n",
       "    </tr>\n",
       "  </tbody>\n",
       "</table>\n",
       "<p>891 rows × 7 columns</p>\n",
       "</div>"
      ],
      "text/plain": [
       "     Pclass  Sex        Age  SibSp  Parch     Fare  Embarked\n",
       "0         3    0  22.000000      1      0   7.2500         0\n",
       "1         1    1  38.000000      1      0  71.2833         1\n",
       "2         3    1  26.000000      0      0   7.9250         0\n",
       "3         1    1  35.000000      1      0  53.1000         0\n",
       "4         3    0  35.000000      0      0   8.0500         0\n",
       "..      ...  ...        ...    ...    ...      ...       ...\n",
       "886       2    0  27.000000      0      0  13.0000         0\n",
       "887       1    1  19.000000      0      0  30.0000         0\n",
       "888       3    1  29.699118      1      2  23.4500         0\n",
       "889       1    0  26.000000      0      0  30.0000         1\n",
       "890       3    0  32.000000      0      0   7.7500         2\n",
       "\n",
       "[891 rows x 7 columns]"
      ]
     },
     "execution_count": 28,
     "metadata": {},
     "output_type": "execute_result"
    }
   ],
   "source": [
    "x"
   ]
  },
  {
   "cell_type": "code",
   "execution_count": 29,
   "id": "384dfddf",
   "metadata": {
    "execution": {
     "iopub.execute_input": "2025-08-10T22:47:34.655632Z",
     "iopub.status.busy": "2025-08-10T22:47:34.654917Z",
     "iopub.status.idle": "2025-08-10T22:47:34.661598Z",
     "shell.execute_reply": "2025-08-10T22:47:34.660801Z"
    },
    "papermill": {
     "duration": 0.024487,
     "end_time": "2025-08-10T22:47:34.663019",
     "exception": false,
     "start_time": "2025-08-10T22:47:34.638532",
     "status": "completed"
    },
    "tags": []
   },
   "outputs": [
    {
     "data": {
      "text/plain": [
       "0      0\n",
       "1      1\n",
       "2      1\n",
       "3      1\n",
       "4      0\n",
       "      ..\n",
       "886    0\n",
       "887    1\n",
       "888    0\n",
       "889    1\n",
       "890    0\n",
       "Name: Survived, Length: 891, dtype: int64"
      ]
     },
     "execution_count": 29,
     "metadata": {},
     "output_type": "execute_result"
    }
   ],
   "source": [
    "y"
   ]
  },
  {
   "cell_type": "code",
   "execution_count": 30,
   "id": "dcfb2c39",
   "metadata": {
    "execution": {
     "iopub.execute_input": "2025-08-10T22:47:34.695137Z",
     "iopub.status.busy": "2025-08-10T22:47:34.694582Z",
     "iopub.status.idle": "2025-08-10T22:47:34.698705Z",
     "shell.execute_reply": "2025-08-10T22:47:34.697846Z"
    },
    "papermill": {
     "duration": 0.021714,
     "end_time": "2025-08-10T22:47:34.699955",
     "exception": false,
     "start_time": "2025-08-10T22:47:34.678241",
     "status": "completed"
    },
    "tags": []
   },
   "outputs": [],
   "source": [
    "model = LogisticRegression()"
   ]
  },
  {
   "cell_type": "code",
   "execution_count": 31,
   "id": "b1408914",
   "metadata": {
    "execution": {
     "iopub.execute_input": "2025-08-10T22:47:34.732134Z",
     "iopub.status.busy": "2025-08-10T22:47:34.731479Z",
     "iopub.status.idle": "2025-08-10T22:47:35.198609Z",
     "shell.execute_reply": "2025-08-10T22:47:35.197792Z"
    },
    "papermill": {
     "duration": 0.485206,
     "end_time": "2025-08-10T22:47:35.200328",
     "exception": false,
     "start_time": "2025-08-10T22:47:34.715122",
     "status": "completed"
    },
    "tags": []
   },
   "outputs": [
    {
     "data": {
      "text/html": [
       "<style>#sk-container-id-1 {color: black;background-color: white;}#sk-container-id-1 pre{padding: 0;}#sk-container-id-1 div.sk-toggleable {background-color: white;}#sk-container-id-1 label.sk-toggleable__label {cursor: pointer;display: block;width: 100%;margin-bottom: 0;padding: 0.3em;box-sizing: border-box;text-align: center;}#sk-container-id-1 label.sk-toggleable__label-arrow:before {content: \"▸\";float: left;margin-right: 0.25em;color: #696969;}#sk-container-id-1 label.sk-toggleable__label-arrow:hover:before {color: black;}#sk-container-id-1 div.sk-estimator:hover label.sk-toggleable__label-arrow:before {color: black;}#sk-container-id-1 div.sk-toggleable__content {max-height: 0;max-width: 0;overflow: hidden;text-align: left;background-color: #f0f8ff;}#sk-container-id-1 div.sk-toggleable__content pre {margin: 0.2em;color: black;border-radius: 0.25em;background-color: #f0f8ff;}#sk-container-id-1 input.sk-toggleable__control:checked~div.sk-toggleable__content {max-height: 200px;max-width: 100%;overflow: auto;}#sk-container-id-1 input.sk-toggleable__control:checked~label.sk-toggleable__label-arrow:before {content: \"▾\";}#sk-container-id-1 div.sk-estimator input.sk-toggleable__control:checked~label.sk-toggleable__label {background-color: #d4ebff;}#sk-container-id-1 div.sk-label input.sk-toggleable__control:checked~label.sk-toggleable__label {background-color: #d4ebff;}#sk-container-id-1 input.sk-hidden--visually {border: 0;clip: rect(1px 1px 1px 1px);clip: rect(1px, 1px, 1px, 1px);height: 1px;margin: -1px;overflow: hidden;padding: 0;position: absolute;width: 1px;}#sk-container-id-1 div.sk-estimator {font-family: monospace;background-color: #f0f8ff;border: 1px dotted black;border-radius: 0.25em;box-sizing: border-box;margin-bottom: 0.5em;}#sk-container-id-1 div.sk-estimator:hover {background-color: #d4ebff;}#sk-container-id-1 div.sk-parallel-item::after {content: \"\";width: 100%;border-bottom: 1px solid gray;flex-grow: 1;}#sk-container-id-1 div.sk-label:hover label.sk-toggleable__label {background-color: #d4ebff;}#sk-container-id-1 div.sk-serial::before {content: \"\";position: absolute;border-left: 1px solid gray;box-sizing: border-box;top: 0;bottom: 0;left: 50%;z-index: 0;}#sk-container-id-1 div.sk-serial {display: flex;flex-direction: column;align-items: center;background-color: white;padding-right: 0.2em;padding-left: 0.2em;position: relative;}#sk-container-id-1 div.sk-item {position: relative;z-index: 1;}#sk-container-id-1 div.sk-parallel {display: flex;align-items: stretch;justify-content: center;background-color: white;position: relative;}#sk-container-id-1 div.sk-item::before, #sk-container-id-1 div.sk-parallel-item::before {content: \"\";position: absolute;border-left: 1px solid gray;box-sizing: border-box;top: 0;bottom: 0;left: 50%;z-index: -1;}#sk-container-id-1 div.sk-parallel-item {display: flex;flex-direction: column;z-index: 1;position: relative;background-color: white;}#sk-container-id-1 div.sk-parallel-item:first-child::after {align-self: flex-end;width: 50%;}#sk-container-id-1 div.sk-parallel-item:last-child::after {align-self: flex-start;width: 50%;}#sk-container-id-1 div.sk-parallel-item:only-child::after {width: 0;}#sk-container-id-1 div.sk-dashed-wrapped {border: 1px dashed gray;margin: 0 0.4em 0.5em 0.4em;box-sizing: border-box;padding-bottom: 0.4em;background-color: white;}#sk-container-id-1 div.sk-label label {font-family: monospace;font-weight: bold;display: inline-block;line-height: 1.2em;}#sk-container-id-1 div.sk-label-container {text-align: center;}#sk-container-id-1 div.sk-container {/* jupyter's `normalize.less` sets `[hidden] { display: none; }` but bootstrap.min.css set `[hidden] { display: none !important; }` so we also need the `!important` here to be able to override the default hidden behavior on the sphinx rendered scikit-learn.org. See: https://github.com/scikit-learn/scikit-learn/issues/21755 */display: inline-block !important;position: relative;}#sk-container-id-1 div.sk-text-repr-fallback {display: none;}</style><div id=\"sk-container-id-1\" class=\"sk-top-container\"><div class=\"sk-text-repr-fallback\"><pre>LogisticRegression()</pre><b>In a Jupyter environment, please rerun this cell to show the HTML representation or trust the notebook. <br />On GitHub, the HTML representation is unable to render, please try loading this page with nbviewer.org.</b></div><div class=\"sk-container\" hidden><div class=\"sk-item\"><div class=\"sk-estimator sk-toggleable\"><input class=\"sk-toggleable__control sk-hidden--visually\" id=\"sk-estimator-id-1\" type=\"checkbox\" checked><label for=\"sk-estimator-id-1\" class=\"sk-toggleable__label sk-toggleable__label-arrow\">LogisticRegression</label><div class=\"sk-toggleable__content\"><pre>LogisticRegression()</pre></div></div></div></div></div>"
      ],
      "text/plain": [
       "LogisticRegression()"
      ]
     },
     "execution_count": 31,
     "metadata": {},
     "output_type": "execute_result"
    }
   ],
   "source": [
    "model.fit(x , y )"
   ]
  },
  {
   "cell_type": "code",
   "execution_count": 32,
   "id": "939a631c",
   "metadata": {
    "execution": {
     "iopub.execute_input": "2025-08-10T22:47:35.254977Z",
     "iopub.status.busy": "2025-08-10T22:47:35.254640Z",
     "iopub.status.idle": "2025-08-10T22:47:35.263196Z",
     "shell.execute_reply": "2025-08-10T22:47:35.262463Z"
    },
    "papermill": {
     "duration": 0.037386,
     "end_time": "2025-08-10T22:47:35.264965",
     "exception": false,
     "start_time": "2025-08-10T22:47:35.227579",
     "status": "completed"
    },
    "tags": []
   },
   "outputs": [],
   "source": [
    "y_predict = model.predict(x)"
   ]
  },
  {
   "cell_type": "code",
   "execution_count": 33,
   "id": "ab71e1eb",
   "metadata": {
    "execution": {
     "iopub.execute_input": "2025-08-10T22:47:35.310852Z",
     "iopub.status.busy": "2025-08-10T22:47:35.310575Z",
     "iopub.status.idle": "2025-08-10T22:47:35.317004Z",
     "shell.execute_reply": "2025-08-10T22:47:35.316342Z"
    },
    "papermill": {
     "duration": 0.027192,
     "end_time": "2025-08-10T22:47:35.318452",
     "exception": false,
     "start_time": "2025-08-10T22:47:35.291260",
     "status": "completed"
    },
    "tags": []
   },
   "outputs": [
    {
     "name": "stdout",
     "output_type": "stream",
     "text": [
      "0.8047138047138047\n"
     ]
    }
   ],
   "source": [
    "accurracy = accuracy_score(y , y_predict)\n",
    "print(accurracy)"
   ]
  },
  {
   "cell_type": "markdown",
   "id": "899a5b82",
   "metadata": {
    "papermill": {
     "duration": 0.015344,
     "end_time": "2025-08-10T22:47:35.349371",
     "exception": false,
     "start_time": "2025-08-10T22:47:35.334027",
     "status": "completed"
    },
    "tags": []
   },
   "source": [
    "###Prreparing our testinf data\n",
    "\n"
   ]
  },
  {
   "cell_type": "code",
   "execution_count": 34,
   "id": "cf34325b",
   "metadata": {
    "execution": {
     "iopub.execute_input": "2025-08-10T22:47:35.381848Z",
     "iopub.status.busy": "2025-08-10T22:47:35.381269Z",
     "iopub.status.idle": "2025-08-10T22:47:35.385801Z",
     "shell.execute_reply": "2025-08-10T22:47:35.385130Z"
    },
    "papermill": {
     "duration": 0.022112,
     "end_time": "2025-08-10T22:47:35.387027",
     "exception": false,
     "start_time": "2025-08-10T22:47:35.364915",
     "status": "completed"
    },
    "tags": []
   },
   "outputs": [],
   "source": [
    "test_data = test_data.drop(['Cabin'] , axis=1)"
   ]
  },
  {
   "cell_type": "code",
   "execution_count": 35,
   "id": "c799b975",
   "metadata": {
    "execution": {
     "iopub.execute_input": "2025-08-10T22:47:35.419892Z",
     "iopub.status.busy": "2025-08-10T22:47:35.419078Z",
     "iopub.status.idle": "2025-08-10T22:47:35.424078Z",
     "shell.execute_reply": "2025-08-10T22:47:35.423436Z"
    },
    "papermill": {
     "duration": 0.022862,
     "end_time": "2025-08-10T22:47:35.425451",
     "exception": false,
     "start_time": "2025-08-10T22:47:35.402589",
     "status": "completed"
    },
    "tags": []
   },
   "outputs": [],
   "source": [
    "test_data['Age']  =  test_data['Age'].fillna(test_data['Age'].mean())"
   ]
  },
  {
   "cell_type": "code",
   "execution_count": 36,
   "id": "43333dee",
   "metadata": {
    "execution": {
     "iopub.execute_input": "2025-08-10T22:47:35.458489Z",
     "iopub.status.busy": "2025-08-10T22:47:35.457806Z",
     "iopub.status.idle": "2025-08-10T22:47:35.464846Z",
     "shell.execute_reply": "2025-08-10T22:47:35.464149Z"
    },
    "papermill": {
     "duration": 0.024796,
     "end_time": "2025-08-10T22:47:35.466187",
     "exception": false,
     "start_time": "2025-08-10T22:47:35.441391",
     "status": "completed"
    },
    "tags": []
   },
   "outputs": [
    {
     "data": {
      "text/plain": [
       "PassengerId    0\n",
       "Pclass         0\n",
       "Name           0\n",
       "Sex            0\n",
       "Age            0\n",
       "SibSp          0\n",
       "Parch          0\n",
       "Ticket         0\n",
       "Fare           1\n",
       "Embarked       0\n",
       "dtype: int64"
      ]
     },
     "execution_count": 36,
     "metadata": {},
     "output_type": "execute_result"
    }
   ],
   "source": [
    "test_data.isna().sum()"
   ]
  },
  {
   "cell_type": "code",
   "execution_count": 37,
   "id": "78550e39",
   "metadata": {
    "execution": {
     "iopub.execute_input": "2025-08-10T22:47:35.498658Z",
     "iopub.status.busy": "2025-08-10T22:47:35.498068Z",
     "iopub.status.idle": "2025-08-10T22:47:35.503031Z",
     "shell.execute_reply": "2025-08-10T22:47:35.502215Z"
    },
    "papermill": {
     "duration": 0.022791,
     "end_time": "2025-08-10T22:47:35.504614",
     "exception": false,
     "start_time": "2025-08-10T22:47:35.481823",
     "status": "completed"
    },
    "tags": []
   },
   "outputs": [],
   "source": [
    "test_data['Fare'] = test_data['Fare'].fillna(test_data['Fare'].mean())"
   ]
  },
  {
   "cell_type": "code",
   "execution_count": 38,
   "id": "80f2072a",
   "metadata": {
    "execution": {
     "iopub.execute_input": "2025-08-10T22:47:35.537601Z",
     "iopub.status.busy": "2025-08-10T22:47:35.537294Z",
     "iopub.status.idle": "2025-08-10T22:47:35.544180Z",
     "shell.execute_reply": "2025-08-10T22:47:35.543361Z"
    },
    "papermill": {
     "duration": 0.025219,
     "end_time": "2025-08-10T22:47:35.545539",
     "exception": false,
     "start_time": "2025-08-10T22:47:35.520320",
     "status": "completed"
    },
    "tags": []
   },
   "outputs": [
    {
     "data": {
      "text/plain": [
       "PassengerId    0\n",
       "Pclass         0\n",
       "Name           0\n",
       "Sex            0\n",
       "Age            0\n",
       "SibSp          0\n",
       "Parch          0\n",
       "Ticket         0\n",
       "Fare           0\n",
       "Embarked       0\n",
       "dtype: int64"
      ]
     },
     "execution_count": 38,
     "metadata": {},
     "output_type": "execute_result"
    }
   ],
   "source": [
    "test_data.isna().sum()"
   ]
  },
  {
   "cell_type": "code",
   "execution_count": 39,
   "id": "4be983ec",
   "metadata": {
    "execution": {
     "iopub.execute_input": "2025-08-10T22:47:35.580140Z",
     "iopub.status.busy": "2025-08-10T22:47:35.579514Z",
     "iopub.status.idle": "2025-08-10T22:47:35.589731Z",
     "shell.execute_reply": "2025-08-10T22:47:35.588867Z"
    },
    "papermill": {
     "duration": 0.028205,
     "end_time": "2025-08-10T22:47:35.590958",
     "exception": false,
     "start_time": "2025-08-10T22:47:35.562753",
     "status": "completed"
    },
    "tags": []
   },
   "outputs": [
    {
     "name": "stdout",
     "output_type": "stream",
     "text": [
      "<class 'pandas.core.frame.DataFrame'>\n",
      "RangeIndex: 418 entries, 0 to 417\n",
      "Data columns (total 10 columns):\n",
      " #   Column       Non-Null Count  Dtype  \n",
      "---  ------       --------------  -----  \n",
      " 0   PassengerId  418 non-null    int64  \n",
      " 1   Pclass       418 non-null    int64  \n",
      " 2   Name         418 non-null    object \n",
      " 3   Sex          418 non-null    object \n",
      " 4   Age          418 non-null    float64\n",
      " 5   SibSp        418 non-null    int64  \n",
      " 6   Parch        418 non-null    int64  \n",
      " 7   Ticket       418 non-null    object \n",
      " 8   Fare         418 non-null    float64\n",
      " 9   Embarked     418 non-null    object \n",
      "dtypes: float64(2), int64(4), object(4)\n",
      "memory usage: 32.8+ KB\n"
     ]
    }
   ],
   "source": [
    "test_data.info()"
   ]
  },
  {
   "cell_type": "code",
   "execution_count": 40,
   "id": "a07d5beb",
   "metadata": {
    "execution": {
     "iopub.execute_input": "2025-08-10T22:47:35.624499Z",
     "iopub.status.busy": "2025-08-10T22:47:35.624185Z",
     "iopub.status.idle": "2025-08-10T22:47:35.645235Z",
     "shell.execute_reply": "2025-08-10T22:47:35.644374Z"
    },
    "papermill": {
     "duration": 0.039292,
     "end_time": "2025-08-10T22:47:35.646722",
     "exception": false,
     "start_time": "2025-08-10T22:47:35.607430",
     "status": "completed"
    },
    "tags": []
   },
   "outputs": [
    {
     "data": {
      "text/html": [
       "<div>\n",
       "<style scoped>\n",
       "    .dataframe tbody tr th:only-of-type {\n",
       "        vertical-align: middle;\n",
       "    }\n",
       "\n",
       "    .dataframe tbody tr th {\n",
       "        vertical-align: top;\n",
       "    }\n",
       "\n",
       "    .dataframe thead th {\n",
       "        text-align: right;\n",
       "    }\n",
       "</style>\n",
       "<table border=\"1\" class=\"dataframe\">\n",
       "  <thead>\n",
       "    <tr style=\"text-align: right;\">\n",
       "      <th></th>\n",
       "      <th>PassengerId</th>\n",
       "      <th>Pclass</th>\n",
       "      <th>Age</th>\n",
       "      <th>SibSp</th>\n",
       "      <th>Parch</th>\n",
       "      <th>Fare</th>\n",
       "    </tr>\n",
       "  </thead>\n",
       "  <tbody>\n",
       "    <tr>\n",
       "      <th>count</th>\n",
       "      <td>418.000000</td>\n",
       "      <td>418.000000</td>\n",
       "      <td>418.000000</td>\n",
       "      <td>418.000000</td>\n",
       "      <td>418.000000</td>\n",
       "      <td>418.000000</td>\n",
       "    </tr>\n",
       "    <tr>\n",
       "      <th>mean</th>\n",
       "      <td>1100.500000</td>\n",
       "      <td>2.265550</td>\n",
       "      <td>30.272590</td>\n",
       "      <td>0.447368</td>\n",
       "      <td>0.392344</td>\n",
       "      <td>35.627188</td>\n",
       "    </tr>\n",
       "    <tr>\n",
       "      <th>std</th>\n",
       "      <td>120.810458</td>\n",
       "      <td>0.841838</td>\n",
       "      <td>12.634534</td>\n",
       "      <td>0.896760</td>\n",
       "      <td>0.981429</td>\n",
       "      <td>55.840500</td>\n",
       "    </tr>\n",
       "    <tr>\n",
       "      <th>min</th>\n",
       "      <td>892.000000</td>\n",
       "      <td>1.000000</td>\n",
       "      <td>0.170000</td>\n",
       "      <td>0.000000</td>\n",
       "      <td>0.000000</td>\n",
       "      <td>0.000000</td>\n",
       "    </tr>\n",
       "    <tr>\n",
       "      <th>25%</th>\n",
       "      <td>996.250000</td>\n",
       "      <td>1.000000</td>\n",
       "      <td>23.000000</td>\n",
       "      <td>0.000000</td>\n",
       "      <td>0.000000</td>\n",
       "      <td>7.895800</td>\n",
       "    </tr>\n",
       "    <tr>\n",
       "      <th>50%</th>\n",
       "      <td>1100.500000</td>\n",
       "      <td>3.000000</td>\n",
       "      <td>30.272590</td>\n",
       "      <td>0.000000</td>\n",
       "      <td>0.000000</td>\n",
       "      <td>14.454200</td>\n",
       "    </tr>\n",
       "    <tr>\n",
       "      <th>75%</th>\n",
       "      <td>1204.750000</td>\n",
       "      <td>3.000000</td>\n",
       "      <td>35.750000</td>\n",
       "      <td>1.000000</td>\n",
       "      <td>0.000000</td>\n",
       "      <td>31.500000</td>\n",
       "    </tr>\n",
       "    <tr>\n",
       "      <th>max</th>\n",
       "      <td>1309.000000</td>\n",
       "      <td>3.000000</td>\n",
       "      <td>76.000000</td>\n",
       "      <td>8.000000</td>\n",
       "      <td>9.000000</td>\n",
       "      <td>512.329200</td>\n",
       "    </tr>\n",
       "  </tbody>\n",
       "</table>\n",
       "</div>"
      ],
      "text/plain": [
       "       PassengerId      Pclass         Age       SibSp       Parch        Fare\n",
       "count   418.000000  418.000000  418.000000  418.000000  418.000000  418.000000\n",
       "mean   1100.500000    2.265550   30.272590    0.447368    0.392344   35.627188\n",
       "std     120.810458    0.841838   12.634534    0.896760    0.981429   55.840500\n",
       "min     892.000000    1.000000    0.170000    0.000000    0.000000    0.000000\n",
       "25%     996.250000    1.000000   23.000000    0.000000    0.000000    7.895800\n",
       "50%    1100.500000    3.000000   30.272590    0.000000    0.000000   14.454200\n",
       "75%    1204.750000    3.000000   35.750000    1.000000    0.000000   31.500000\n",
       "max    1309.000000    3.000000   76.000000    8.000000    9.000000  512.329200"
      ]
     },
     "execution_count": 40,
     "metadata": {},
     "output_type": "execute_result"
    }
   ],
   "source": [
    "test_data.describe()"
   ]
  },
  {
   "cell_type": "code",
   "execution_count": 41,
   "id": "db1cebdf",
   "metadata": {
    "execution": {
     "iopub.execute_input": "2025-08-10T22:47:35.680437Z",
     "iopub.status.busy": "2025-08-10T22:47:35.679843Z",
     "iopub.status.idle": "2025-08-10T22:47:35.691836Z",
     "shell.execute_reply": "2025-08-10T22:47:35.690933Z"
    },
    "papermill": {
     "duration": 0.030309,
     "end_time": "2025-08-10T22:47:35.693319",
     "exception": false,
     "start_time": "2025-08-10T22:47:35.663010",
     "status": "completed"
    },
    "tags": []
   },
   "outputs": [
    {
     "data": {
      "text/html": [
       "<div>\n",
       "<style scoped>\n",
       "    .dataframe tbody tr th:only-of-type {\n",
       "        vertical-align: middle;\n",
       "    }\n",
       "\n",
       "    .dataframe tbody tr th {\n",
       "        vertical-align: top;\n",
       "    }\n",
       "\n",
       "    .dataframe thead th {\n",
       "        text-align: right;\n",
       "    }\n",
       "</style>\n",
       "<table border=\"1\" class=\"dataframe\">\n",
       "  <thead>\n",
       "    <tr style=\"text-align: right;\">\n",
       "      <th></th>\n",
       "      <th>PassengerId</th>\n",
       "      <th>Pclass</th>\n",
       "      <th>Name</th>\n",
       "      <th>Sex</th>\n",
       "      <th>Age</th>\n",
       "      <th>SibSp</th>\n",
       "      <th>Parch</th>\n",
       "      <th>Ticket</th>\n",
       "      <th>Fare</th>\n",
       "      <th>Embarked</th>\n",
       "    </tr>\n",
       "  </thead>\n",
       "  <tbody>\n",
       "    <tr>\n",
       "      <th>0</th>\n",
       "      <td>892</td>\n",
       "      <td>3</td>\n",
       "      <td>Kelly, Mr. James</td>\n",
       "      <td>male</td>\n",
       "      <td>34.5</td>\n",
       "      <td>0</td>\n",
       "      <td>0</td>\n",
       "      <td>330911</td>\n",
       "      <td>7.8292</td>\n",
       "      <td>Q</td>\n",
       "    </tr>\n",
       "    <tr>\n",
       "      <th>1</th>\n",
       "      <td>893</td>\n",
       "      <td>3</td>\n",
       "      <td>Wilkes, Mrs. James (Ellen Needs)</td>\n",
       "      <td>female</td>\n",
       "      <td>47.0</td>\n",
       "      <td>1</td>\n",
       "      <td>0</td>\n",
       "      <td>363272</td>\n",
       "      <td>7.0000</td>\n",
       "      <td>S</td>\n",
       "    </tr>\n",
       "    <tr>\n",
       "      <th>2</th>\n",
       "      <td>894</td>\n",
       "      <td>2</td>\n",
       "      <td>Myles, Mr. Thomas Francis</td>\n",
       "      <td>male</td>\n",
       "      <td>62.0</td>\n",
       "      <td>0</td>\n",
       "      <td>0</td>\n",
       "      <td>240276</td>\n",
       "      <td>9.6875</td>\n",
       "      <td>Q</td>\n",
       "    </tr>\n",
       "    <tr>\n",
       "      <th>3</th>\n",
       "      <td>895</td>\n",
       "      <td>3</td>\n",
       "      <td>Wirz, Mr. Albert</td>\n",
       "      <td>male</td>\n",
       "      <td>27.0</td>\n",
       "      <td>0</td>\n",
       "      <td>0</td>\n",
       "      <td>315154</td>\n",
       "      <td>8.6625</td>\n",
       "      <td>S</td>\n",
       "    </tr>\n",
       "    <tr>\n",
       "      <th>4</th>\n",
       "      <td>896</td>\n",
       "      <td>3</td>\n",
       "      <td>Hirvonen, Mrs. Alexander (Helga E Lindqvist)</td>\n",
       "      <td>female</td>\n",
       "      <td>22.0</td>\n",
       "      <td>1</td>\n",
       "      <td>1</td>\n",
       "      <td>3101298</td>\n",
       "      <td>12.2875</td>\n",
       "      <td>S</td>\n",
       "    </tr>\n",
       "  </tbody>\n",
       "</table>\n",
       "</div>"
      ],
      "text/plain": [
       "   PassengerId  Pclass                                          Name     Sex  \\\n",
       "0          892       3                              Kelly, Mr. James    male   \n",
       "1          893       3              Wilkes, Mrs. James (Ellen Needs)  female   \n",
       "2          894       2                     Myles, Mr. Thomas Francis    male   \n",
       "3          895       3                              Wirz, Mr. Albert    male   \n",
       "4          896       3  Hirvonen, Mrs. Alexander (Helga E Lindqvist)  female   \n",
       "\n",
       "    Age  SibSp  Parch   Ticket     Fare Embarked  \n",
       "0  34.5      0      0   330911   7.8292        Q  \n",
       "1  47.0      1      0   363272   7.0000        S  \n",
       "2  62.0      0      0   240276   9.6875        Q  \n",
       "3  27.0      0      0   315154   8.6625        S  \n",
       "4  22.0      1      1  3101298  12.2875        S  "
      ]
     },
     "execution_count": 41,
     "metadata": {},
     "output_type": "execute_result"
    }
   ],
   "source": [
    "test_data.head()"
   ]
  },
  {
   "cell_type": "code",
   "execution_count": null,
   "id": "7bd706d4",
   "metadata": {
    "papermill": {
     "duration": 0.01572,
     "end_time": "2025-08-10T22:47:35.726094",
     "exception": false,
     "start_time": "2025-08-10T22:47:35.710374",
     "status": "completed"
    },
    "tags": []
   },
   "outputs": [],
   "source": []
  },
  {
   "cell_type": "code",
   "execution_count": 42,
   "id": "1df34770",
   "metadata": {
    "execution": {
     "iopub.execute_input": "2025-08-10T22:47:35.758926Z",
     "iopub.status.busy": "2025-08-10T22:47:35.758580Z",
     "iopub.status.idle": "2025-08-10T22:47:35.768066Z",
     "shell.execute_reply": "2025-08-10T22:47:35.767071Z"
    },
    "papermill": {
     "duration": 0.02769,
     "end_time": "2025-08-10T22:47:35.769489",
     "exception": false,
     "start_time": "2025-08-10T22:47:35.741799",
     "status": "completed"
    },
    "tags": []
   },
   "outputs": [
    {
     "name": "stderr",
     "output_type": "stream",
     "text": [
      "/tmp/ipykernel_13/1449919747.py:1: FutureWarning: Downcasting behavior in `replace` is deprecated and will be removed in a future version. To retain the old behavior, explicitly call `result.infer_objects(copy=False)`. To opt-in to the future behavior, set `pd.set_option('future.no_silent_downcasting', True)`\n",
      "  test_data.replace( {'male' : 0 , 'female':1} , inplace = True)\n",
      "/tmp/ipykernel_13/1449919747.py:2: FutureWarning: Downcasting behavior in `replace` is deprecated and will be removed in a future version. To retain the old behavior, explicitly call `result.infer_objects(copy=False)`. To opt-in to the future behavior, set `pd.set_option('future.no_silent_downcasting', True)`\n",
      "  test_data.replace( {'S' : 0 , 'C':1 , 'Q':2} , inplace = True)\n"
     ]
    }
   ],
   "source": [
    "test_data.replace( {'male' : 0 , 'female':1} , inplace = True)\n",
    "test_data.replace( {'S' : 0 , 'C':1 , 'Q':2} , inplace = True)"
   ]
  },
  {
   "cell_type": "code",
   "execution_count": 43,
   "id": "997b8324",
   "metadata": {
    "execution": {
     "iopub.execute_input": "2025-08-10T22:47:35.805011Z",
     "iopub.status.busy": "2025-08-10T22:47:35.804266Z",
     "iopub.status.idle": "2025-08-10T22:47:35.818698Z",
     "shell.execute_reply": "2025-08-10T22:47:35.817813Z"
    },
    "papermill": {
     "duration": 0.034186,
     "end_time": "2025-08-10T22:47:35.820133",
     "exception": false,
     "start_time": "2025-08-10T22:47:35.785947",
     "status": "completed"
    },
    "tags": []
   },
   "outputs": [
    {
     "data": {
      "text/html": [
       "<div>\n",
       "<style scoped>\n",
       "    .dataframe tbody tr th:only-of-type {\n",
       "        vertical-align: middle;\n",
       "    }\n",
       "\n",
       "    .dataframe tbody tr th {\n",
       "        vertical-align: top;\n",
       "    }\n",
       "\n",
       "    .dataframe thead th {\n",
       "        text-align: right;\n",
       "    }\n",
       "</style>\n",
       "<table border=\"1\" class=\"dataframe\">\n",
       "  <thead>\n",
       "    <tr style=\"text-align: right;\">\n",
       "      <th></th>\n",
       "      <th>PassengerId</th>\n",
       "      <th>Pclass</th>\n",
       "      <th>Name</th>\n",
       "      <th>Sex</th>\n",
       "      <th>Age</th>\n",
       "      <th>SibSp</th>\n",
       "      <th>Parch</th>\n",
       "      <th>Ticket</th>\n",
       "      <th>Fare</th>\n",
       "      <th>Embarked</th>\n",
       "    </tr>\n",
       "  </thead>\n",
       "  <tbody>\n",
       "    <tr>\n",
       "      <th>0</th>\n",
       "      <td>892</td>\n",
       "      <td>3</td>\n",
       "      <td>Kelly, Mr. James</td>\n",
       "      <td>0</td>\n",
       "      <td>34.50000</td>\n",
       "      <td>0</td>\n",
       "      <td>0</td>\n",
       "      <td>330911</td>\n",
       "      <td>7.8292</td>\n",
       "      <td>2</td>\n",
       "    </tr>\n",
       "    <tr>\n",
       "      <th>1</th>\n",
       "      <td>893</td>\n",
       "      <td>3</td>\n",
       "      <td>Wilkes, Mrs. James (Ellen Needs)</td>\n",
       "      <td>1</td>\n",
       "      <td>47.00000</td>\n",
       "      <td>1</td>\n",
       "      <td>0</td>\n",
       "      <td>363272</td>\n",
       "      <td>7.0000</td>\n",
       "      <td>0</td>\n",
       "    </tr>\n",
       "    <tr>\n",
       "      <th>2</th>\n",
       "      <td>894</td>\n",
       "      <td>2</td>\n",
       "      <td>Myles, Mr. Thomas Francis</td>\n",
       "      <td>0</td>\n",
       "      <td>62.00000</td>\n",
       "      <td>0</td>\n",
       "      <td>0</td>\n",
       "      <td>240276</td>\n",
       "      <td>9.6875</td>\n",
       "      <td>2</td>\n",
       "    </tr>\n",
       "    <tr>\n",
       "      <th>3</th>\n",
       "      <td>895</td>\n",
       "      <td>3</td>\n",
       "      <td>Wirz, Mr. Albert</td>\n",
       "      <td>0</td>\n",
       "      <td>27.00000</td>\n",
       "      <td>0</td>\n",
       "      <td>0</td>\n",
       "      <td>315154</td>\n",
       "      <td>8.6625</td>\n",
       "      <td>0</td>\n",
       "    </tr>\n",
       "    <tr>\n",
       "      <th>4</th>\n",
       "      <td>896</td>\n",
       "      <td>3</td>\n",
       "      <td>Hirvonen, Mrs. Alexander (Helga E Lindqvist)</td>\n",
       "      <td>1</td>\n",
       "      <td>22.00000</td>\n",
       "      <td>1</td>\n",
       "      <td>1</td>\n",
       "      <td>3101298</td>\n",
       "      <td>12.2875</td>\n",
       "      <td>0</td>\n",
       "    </tr>\n",
       "    <tr>\n",
       "      <th>...</th>\n",
       "      <td>...</td>\n",
       "      <td>...</td>\n",
       "      <td>...</td>\n",
       "      <td>...</td>\n",
       "      <td>...</td>\n",
       "      <td>...</td>\n",
       "      <td>...</td>\n",
       "      <td>...</td>\n",
       "      <td>...</td>\n",
       "      <td>...</td>\n",
       "    </tr>\n",
       "    <tr>\n",
       "      <th>413</th>\n",
       "      <td>1305</td>\n",
       "      <td>3</td>\n",
       "      <td>Spector, Mr. Woolf</td>\n",
       "      <td>0</td>\n",
       "      <td>30.27259</td>\n",
       "      <td>0</td>\n",
       "      <td>0</td>\n",
       "      <td>A.5. 3236</td>\n",
       "      <td>8.0500</td>\n",
       "      <td>0</td>\n",
       "    </tr>\n",
       "    <tr>\n",
       "      <th>414</th>\n",
       "      <td>1306</td>\n",
       "      <td>1</td>\n",
       "      <td>Oliva y Ocana, Dona. Fermina</td>\n",
       "      <td>1</td>\n",
       "      <td>39.00000</td>\n",
       "      <td>0</td>\n",
       "      <td>0</td>\n",
       "      <td>PC 17758</td>\n",
       "      <td>108.9000</td>\n",
       "      <td>1</td>\n",
       "    </tr>\n",
       "    <tr>\n",
       "      <th>415</th>\n",
       "      <td>1307</td>\n",
       "      <td>3</td>\n",
       "      <td>Saether, Mr. Simon Sivertsen</td>\n",
       "      <td>0</td>\n",
       "      <td>38.50000</td>\n",
       "      <td>0</td>\n",
       "      <td>0</td>\n",
       "      <td>SOTON/O.Q. 3101262</td>\n",
       "      <td>7.2500</td>\n",
       "      <td>0</td>\n",
       "    </tr>\n",
       "    <tr>\n",
       "      <th>416</th>\n",
       "      <td>1308</td>\n",
       "      <td>3</td>\n",
       "      <td>Ware, Mr. Frederick</td>\n",
       "      <td>0</td>\n",
       "      <td>30.27259</td>\n",
       "      <td>0</td>\n",
       "      <td>0</td>\n",
       "      <td>359309</td>\n",
       "      <td>8.0500</td>\n",
       "      <td>0</td>\n",
       "    </tr>\n",
       "    <tr>\n",
       "      <th>417</th>\n",
       "      <td>1309</td>\n",
       "      <td>3</td>\n",
       "      <td>Peter, Master. Michael J</td>\n",
       "      <td>0</td>\n",
       "      <td>30.27259</td>\n",
       "      <td>1</td>\n",
       "      <td>1</td>\n",
       "      <td>2668</td>\n",
       "      <td>22.3583</td>\n",
       "      <td>1</td>\n",
       "    </tr>\n",
       "  </tbody>\n",
       "</table>\n",
       "<p>418 rows × 10 columns</p>\n",
       "</div>"
      ],
      "text/plain": [
       "     PassengerId  Pclass                                          Name  Sex  \\\n",
       "0            892       3                              Kelly, Mr. James    0   \n",
       "1            893       3              Wilkes, Mrs. James (Ellen Needs)    1   \n",
       "2            894       2                     Myles, Mr. Thomas Francis    0   \n",
       "3            895       3                              Wirz, Mr. Albert    0   \n",
       "4            896       3  Hirvonen, Mrs. Alexander (Helga E Lindqvist)    1   \n",
       "..           ...     ...                                           ...  ...   \n",
       "413         1305       3                            Spector, Mr. Woolf    0   \n",
       "414         1306       1                  Oliva y Ocana, Dona. Fermina    1   \n",
       "415         1307       3                  Saether, Mr. Simon Sivertsen    0   \n",
       "416         1308       3                           Ware, Mr. Frederick    0   \n",
       "417         1309       3                      Peter, Master. Michael J    0   \n",
       "\n",
       "          Age  SibSp  Parch              Ticket      Fare  Embarked  \n",
       "0    34.50000      0      0              330911    7.8292         2  \n",
       "1    47.00000      1      0              363272    7.0000         0  \n",
       "2    62.00000      0      0              240276    9.6875         2  \n",
       "3    27.00000      0      0              315154    8.6625         0  \n",
       "4    22.00000      1      1             3101298   12.2875         0  \n",
       "..        ...    ...    ...                 ...       ...       ...  \n",
       "413  30.27259      0      0           A.5. 3236    8.0500         0  \n",
       "414  39.00000      0      0            PC 17758  108.9000         1  \n",
       "415  38.50000      0      0  SOTON/O.Q. 3101262    7.2500         0  \n",
       "416  30.27259      0      0              359309    8.0500         0  \n",
       "417  30.27259      1      1                2668   22.3583         1  \n",
       "\n",
       "[418 rows x 10 columns]"
      ]
     },
     "execution_count": 43,
     "metadata": {},
     "output_type": "execute_result"
    }
   ],
   "source": [
    "test_data"
   ]
  },
  {
   "cell_type": "code",
   "execution_count": 44,
   "id": "0ee081d6",
   "metadata": {
    "execution": {
     "iopub.execute_input": "2025-08-10T22:47:35.854473Z",
     "iopub.status.busy": "2025-08-10T22:47:35.853726Z",
     "iopub.status.idle": "2025-08-10T22:47:35.866583Z",
     "shell.execute_reply": "2025-08-10T22:47:35.865895Z"
    },
    "papermill": {
     "duration": 0.031259,
     "end_time": "2025-08-10T22:47:35.867835",
     "exception": false,
     "start_time": "2025-08-10T22:47:35.836576",
     "status": "completed"
    },
    "tags": []
   },
   "outputs": [
    {
     "data": {
      "text/html": [
       "<div>\n",
       "<style scoped>\n",
       "    .dataframe tbody tr th:only-of-type {\n",
       "        vertical-align: middle;\n",
       "    }\n",
       "\n",
       "    .dataframe tbody tr th {\n",
       "        vertical-align: top;\n",
       "    }\n",
       "\n",
       "    .dataframe thead th {\n",
       "        text-align: right;\n",
       "    }\n",
       "</style>\n",
       "<table border=\"1\" class=\"dataframe\">\n",
       "  <thead>\n",
       "    <tr style=\"text-align: right;\">\n",
       "      <th></th>\n",
       "      <th>PassengerId</th>\n",
       "      <th>Pclass</th>\n",
       "      <th>Name</th>\n",
       "      <th>Sex</th>\n",
       "      <th>Age</th>\n",
       "      <th>SibSp</th>\n",
       "      <th>Parch</th>\n",
       "      <th>Ticket</th>\n",
       "      <th>Fare</th>\n",
       "      <th>Embarked</th>\n",
       "    </tr>\n",
       "  </thead>\n",
       "  <tbody>\n",
       "    <tr>\n",
       "      <th>0</th>\n",
       "      <td>892</td>\n",
       "      <td>3</td>\n",
       "      <td>Kelly, Mr. James</td>\n",
       "      <td>0</td>\n",
       "      <td>34.50000</td>\n",
       "      <td>0</td>\n",
       "      <td>0</td>\n",
       "      <td>330911</td>\n",
       "      <td>7.8292</td>\n",
       "      <td>2</td>\n",
       "    </tr>\n",
       "    <tr>\n",
       "      <th>1</th>\n",
       "      <td>893</td>\n",
       "      <td>3</td>\n",
       "      <td>Wilkes, Mrs. James (Ellen Needs)</td>\n",
       "      <td>1</td>\n",
       "      <td>47.00000</td>\n",
       "      <td>1</td>\n",
       "      <td>0</td>\n",
       "      <td>363272</td>\n",
       "      <td>7.0000</td>\n",
       "      <td>0</td>\n",
       "    </tr>\n",
       "    <tr>\n",
       "      <th>2</th>\n",
       "      <td>894</td>\n",
       "      <td>2</td>\n",
       "      <td>Myles, Mr. Thomas Francis</td>\n",
       "      <td>0</td>\n",
       "      <td>62.00000</td>\n",
       "      <td>0</td>\n",
       "      <td>0</td>\n",
       "      <td>240276</td>\n",
       "      <td>9.6875</td>\n",
       "      <td>2</td>\n",
       "    </tr>\n",
       "    <tr>\n",
       "      <th>3</th>\n",
       "      <td>895</td>\n",
       "      <td>3</td>\n",
       "      <td>Wirz, Mr. Albert</td>\n",
       "      <td>0</td>\n",
       "      <td>27.00000</td>\n",
       "      <td>0</td>\n",
       "      <td>0</td>\n",
       "      <td>315154</td>\n",
       "      <td>8.6625</td>\n",
       "      <td>0</td>\n",
       "    </tr>\n",
       "    <tr>\n",
       "      <th>4</th>\n",
       "      <td>896</td>\n",
       "      <td>3</td>\n",
       "      <td>Hirvonen, Mrs. Alexander (Helga E Lindqvist)</td>\n",
       "      <td>1</td>\n",
       "      <td>22.00000</td>\n",
       "      <td>1</td>\n",
       "      <td>1</td>\n",
       "      <td>3101298</td>\n",
       "      <td>12.2875</td>\n",
       "      <td>0</td>\n",
       "    </tr>\n",
       "    <tr>\n",
       "      <th>...</th>\n",
       "      <td>...</td>\n",
       "      <td>...</td>\n",
       "      <td>...</td>\n",
       "      <td>...</td>\n",
       "      <td>...</td>\n",
       "      <td>...</td>\n",
       "      <td>...</td>\n",
       "      <td>...</td>\n",
       "      <td>...</td>\n",
       "      <td>...</td>\n",
       "    </tr>\n",
       "    <tr>\n",
       "      <th>413</th>\n",
       "      <td>1305</td>\n",
       "      <td>3</td>\n",
       "      <td>Spector, Mr. Woolf</td>\n",
       "      <td>0</td>\n",
       "      <td>30.27259</td>\n",
       "      <td>0</td>\n",
       "      <td>0</td>\n",
       "      <td>A.5. 3236</td>\n",
       "      <td>8.0500</td>\n",
       "      <td>0</td>\n",
       "    </tr>\n",
       "    <tr>\n",
       "      <th>414</th>\n",
       "      <td>1306</td>\n",
       "      <td>1</td>\n",
       "      <td>Oliva y Ocana, Dona. Fermina</td>\n",
       "      <td>1</td>\n",
       "      <td>39.00000</td>\n",
       "      <td>0</td>\n",
       "      <td>0</td>\n",
       "      <td>PC 17758</td>\n",
       "      <td>108.9000</td>\n",
       "      <td>1</td>\n",
       "    </tr>\n",
       "    <tr>\n",
       "      <th>415</th>\n",
       "      <td>1307</td>\n",
       "      <td>3</td>\n",
       "      <td>Saether, Mr. Simon Sivertsen</td>\n",
       "      <td>0</td>\n",
       "      <td>38.50000</td>\n",
       "      <td>0</td>\n",
       "      <td>0</td>\n",
       "      <td>SOTON/O.Q. 3101262</td>\n",
       "      <td>7.2500</td>\n",
       "      <td>0</td>\n",
       "    </tr>\n",
       "    <tr>\n",
       "      <th>416</th>\n",
       "      <td>1308</td>\n",
       "      <td>3</td>\n",
       "      <td>Ware, Mr. Frederick</td>\n",
       "      <td>0</td>\n",
       "      <td>30.27259</td>\n",
       "      <td>0</td>\n",
       "      <td>0</td>\n",
       "      <td>359309</td>\n",
       "      <td>8.0500</td>\n",
       "      <td>0</td>\n",
       "    </tr>\n",
       "    <tr>\n",
       "      <th>417</th>\n",
       "      <td>1309</td>\n",
       "      <td>3</td>\n",
       "      <td>Peter, Master. Michael J</td>\n",
       "      <td>0</td>\n",
       "      <td>30.27259</td>\n",
       "      <td>1</td>\n",
       "      <td>1</td>\n",
       "      <td>2668</td>\n",
       "      <td>22.3583</td>\n",
       "      <td>1</td>\n",
       "    </tr>\n",
       "  </tbody>\n",
       "</table>\n",
       "<p>418 rows × 10 columns</p>\n",
       "</div>"
      ],
      "text/plain": [
       "     PassengerId  Pclass                                          Name  Sex  \\\n",
       "0            892       3                              Kelly, Mr. James    0   \n",
       "1            893       3              Wilkes, Mrs. James (Ellen Needs)    1   \n",
       "2            894       2                     Myles, Mr. Thomas Francis    0   \n",
       "3            895       3                              Wirz, Mr. Albert    0   \n",
       "4            896       3  Hirvonen, Mrs. Alexander (Helga E Lindqvist)    1   \n",
       "..           ...     ...                                           ...  ...   \n",
       "413         1305       3                            Spector, Mr. Woolf    0   \n",
       "414         1306       1                  Oliva y Ocana, Dona. Fermina    1   \n",
       "415         1307       3                  Saether, Mr. Simon Sivertsen    0   \n",
       "416         1308       3                           Ware, Mr. Frederick    0   \n",
       "417         1309       3                      Peter, Master. Michael J    0   \n",
       "\n",
       "          Age  SibSp  Parch              Ticket      Fare  Embarked  \n",
       "0    34.50000      0      0              330911    7.8292         2  \n",
       "1    47.00000      1      0              363272    7.0000         0  \n",
       "2    62.00000      0      0              240276    9.6875         2  \n",
       "3    27.00000      0      0              315154    8.6625         0  \n",
       "4    22.00000      1      1             3101298   12.2875         0  \n",
       "..        ...    ...    ...                 ...       ...       ...  \n",
       "413  30.27259      0      0           A.5. 3236    8.0500         0  \n",
       "414  39.00000      0      0            PC 17758  108.9000         1  \n",
       "415  38.50000      0      0  SOTON/O.Q. 3101262    7.2500         0  \n",
       "416  30.27259      0      0              359309    8.0500         0  \n",
       "417  30.27259      1      1                2668   22.3583         1  \n",
       "\n",
       "[418 rows x 10 columns]"
      ]
     },
     "execution_count": 44,
     "metadata": {},
     "output_type": "execute_result"
    }
   ],
   "source": [
    "test_data"
   ]
  },
  {
   "cell_type": "code",
   "execution_count": 45,
   "id": "143c848a",
   "metadata": {
    "execution": {
     "iopub.execute_input": "2025-08-10T22:47:35.903208Z",
     "iopub.status.busy": "2025-08-10T22:47:35.902503Z",
     "iopub.status.idle": "2025-08-10T22:47:35.907388Z",
     "shell.execute_reply": "2025-08-10T22:47:35.906626Z"
    },
    "papermill": {
     "duration": 0.023999,
     "end_time": "2025-08-10T22:47:35.908647",
     "exception": false,
     "start_time": "2025-08-10T22:47:35.884648",
     "status": "completed"
    },
    "tags": []
   },
   "outputs": [],
   "source": [
    "x_test = test_data.drop(['Name', 'PassengerId' , 'Ticket'],axis=1)"
   ]
  },
  {
   "cell_type": "code",
   "execution_count": 46,
   "id": "3712f6fd",
   "metadata": {
    "execution": {
     "iopub.execute_input": "2025-08-10T22:47:35.943226Z",
     "iopub.status.busy": "2025-08-10T22:47:35.942888Z",
     "iopub.status.idle": "2025-08-10T22:47:35.949943Z",
     "shell.execute_reply": "2025-08-10T22:47:35.949243Z"
    },
    "papermill": {
     "duration": 0.025908,
     "end_time": "2025-08-10T22:47:35.951176",
     "exception": false,
     "start_time": "2025-08-10T22:47:35.925268",
     "status": "completed"
    },
    "tags": []
   },
   "outputs": [
    {
     "data": {
      "text/plain": [
       "Pclass      0\n",
       "Sex         0\n",
       "Age         0\n",
       "SibSp       0\n",
       "Parch       0\n",
       "Fare        0\n",
       "Embarked    0\n",
       "dtype: int64"
      ]
     },
     "execution_count": 46,
     "metadata": {},
     "output_type": "execute_result"
    }
   ],
   "source": [
    "x_test.isna().sum()"
   ]
  },
  {
   "cell_type": "code",
   "execution_count": 47,
   "id": "f2f7d3c1",
   "metadata": {
    "execution": {
     "iopub.execute_input": "2025-08-10T22:47:35.986632Z",
     "iopub.status.busy": "2025-08-10T22:47:35.985934Z",
     "iopub.status.idle": "2025-08-10T22:47:35.989967Z",
     "shell.execute_reply": "2025-08-10T22:47:35.989379Z"
    },
    "papermill": {
     "duration": 0.022852,
     "end_time": "2025-08-10T22:47:35.991300",
     "exception": false,
     "start_time": "2025-08-10T22:47:35.968448",
     "status": "completed"
    },
    "tags": []
   },
   "outputs": [],
   "source": [
    "y_test = y_test['Survived']\n"
   ]
  },
  {
   "cell_type": "code",
   "execution_count": 48,
   "id": "12b9eaaf",
   "metadata": {
    "execution": {
     "iopub.execute_input": "2025-08-10T22:47:36.027061Z",
     "iopub.status.busy": "2025-08-10T22:47:36.026493Z",
     "iopub.status.idle": "2025-08-10T22:47:36.032034Z",
     "shell.execute_reply": "2025-08-10T22:47:36.031306Z"
    },
    "papermill": {
     "duration": 0.024938,
     "end_time": "2025-08-10T22:47:36.033441",
     "exception": false,
     "start_time": "2025-08-10T22:47:36.008503",
     "status": "completed"
    },
    "tags": []
   },
   "outputs": [
    {
     "data": {
      "text/plain": [
       "0"
      ]
     },
     "execution_count": 48,
     "metadata": {},
     "output_type": "execute_result"
    }
   ],
   "source": [
    "y_test.isna().sum()"
   ]
  },
  {
   "cell_type": "code",
   "execution_count": 49,
   "id": "3d04892a",
   "metadata": {
    "execution": {
     "iopub.execute_input": "2025-08-10T22:47:36.069001Z",
     "iopub.status.busy": "2025-08-10T22:47:36.068692Z",
     "iopub.status.idle": "2025-08-10T22:47:36.074573Z",
     "shell.execute_reply": "2025-08-10T22:47:36.073787Z"
    },
    "papermill": {
     "duration": 0.025093,
     "end_time": "2025-08-10T22:47:36.075936",
     "exception": false,
     "start_time": "2025-08-10T22:47:36.050843",
     "status": "completed"
    },
    "tags": []
   },
   "outputs": [],
   "source": [
    "y_predict = model.predict(x_test)"
   ]
  },
  {
   "cell_type": "code",
   "execution_count": 50,
   "id": "0d44203d",
   "metadata": {
    "execution": {
     "iopub.execute_input": "2025-08-10T22:47:36.111474Z",
     "iopub.status.busy": "2025-08-10T22:47:36.110674Z",
     "iopub.status.idle": "2025-08-10T22:47:36.116381Z",
     "shell.execute_reply": "2025-08-10T22:47:36.115423Z"
    },
    "papermill": {
     "duration": 0.024691,
     "end_time": "2025-08-10T22:47:36.117819",
     "exception": false,
     "start_time": "2025-08-10T22:47:36.093128",
     "status": "completed"
    },
    "tags": []
   },
   "outputs": [
    {
     "name": "stdout",
     "output_type": "stream",
     "text": [
      "0.9425837320574163\n"
     ]
    }
   ],
   "source": [
    "accuracy = accuracy_score(y_test , y_predict)\n",
    "print(accuracy)"
   ]
  },
  {
   "cell_type": "code",
   "execution_count": 51,
   "id": "0b48c46b",
   "metadata": {
    "execution": {
     "iopub.execute_input": "2025-08-10T22:47:36.153410Z",
     "iopub.status.busy": "2025-08-10T22:47:36.152816Z",
     "iopub.status.idle": "2025-08-10T22:47:36.161166Z",
     "shell.execute_reply": "2025-08-10T22:47:36.160243Z"
    },
    "papermill": {
     "duration": 0.027618,
     "end_time": "2025-08-10T22:47:36.162507",
     "exception": false,
     "start_time": "2025-08-10T22:47:36.134889",
     "status": "completed"
    },
    "tags": []
   },
   "outputs": [
    {
     "name": "stdout",
     "output_type": "stream",
     "text": [
      "[0]\n",
      "The Person did not survived\n"
     ]
    },
    {
     "name": "stderr",
     "output_type": "stream",
     "text": [
      "/usr/local/lib/python3.11/dist-packages/sklearn/base.py:439: UserWarning: X does not have valid feature names, but LogisticRegression was fitted with feature names\n",
      "  warnings.warn(\n"
     ]
    }
   ],
   "source": [
    "input_data = (3,0,22.000000,1,0,7.2500,0)\n",
    "\n",
    "# change the input data to a numpy array\n",
    "input_data_as_numpy_array= np.asarray(input_data)\n",
    "\n",
    "# reshape the numpy array as we are predicting for only on instance\n",
    "input_data_reshaped = input_data_as_numpy_array.reshape(1,-1)\n",
    "\n",
    "prediction = model.predict(input_data_reshaped)\n",
    "print(prediction)\n",
    "\n",
    "if (prediction[0]== 0):\n",
    "  print('The Person did not survived')\n",
    "else:\n",
    "  print('The Person has survived')\n",
    "\n"
   ]
  },
  {
   "cell_type": "code",
   "execution_count": null,
   "id": "d866d906",
   "metadata": {
    "papermill": {
     "duration": 0.01656,
     "end_time": "2025-08-10T22:47:36.196141",
     "exception": false,
     "start_time": "2025-08-10T22:47:36.179581",
     "status": "completed"
    },
    "tags": []
   },
   "outputs": [],
   "source": []
  },
  {
   "cell_type": "code",
   "execution_count": null,
   "id": "53444988",
   "metadata": {
    "papermill": {
     "duration": 0.016549,
     "end_time": "2025-08-10T22:47:36.229735",
     "exception": false,
     "start_time": "2025-08-10T22:47:36.213186",
     "status": "completed"
    },
    "tags": []
   },
   "outputs": [],
   "source": []
  }
 ],
 "metadata": {
  "kaggle": {
   "accelerator": "none",
   "dataSources": [
    {
     "datasetId": 8045545,
     "sourceId": 12728891,
     "sourceType": "datasetVersion"
    }
   ],
   "dockerImageVersionId": 31089,
   "isGpuEnabled": false,
   "isInternetEnabled": true,
   "language": "python",
   "sourceType": "notebook"
  },
  "kernelspec": {
   "display_name": "Python 3",
   "language": "python",
   "name": "python3"
  },
  "language_info": {
   "codemirror_mode": {
    "name": "ipython",
    "version": 3
   },
   "file_extension": ".py",
   "mimetype": "text/x-python",
   "name": "python",
   "nbconvert_exporter": "python",
   "pygments_lexer": "ipython3",
   "version": "3.11.13"
  },
  "papermill": {
   "default_parameters": {},
   "duration": 15.535974,
   "end_time": "2025-08-10T22:47:36.967306",
   "environment_variables": {},
   "exception": null,
   "input_path": "__notebook__.ipynb",
   "output_path": "__notebook__.ipynb",
   "parameters": {},
   "start_time": "2025-08-10T22:47:21.431332",
   "version": "2.6.0"
  }
 },
 "nbformat": 4,
 "nbformat_minor": 5
}
